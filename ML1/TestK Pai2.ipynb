{
 "cells": [
  {
   "cell_type": "code",
   "execution_count": 3,
   "id": "4c335068",
   "metadata": {},
   "outputs": [
    {
     "name": "stdout",
     "output_type": "stream",
     "text": [
      "Data has been written to restaurant_reviews.csv\n"
     ]
    }
   ],
   "source": [
    "import csv\n",
    "from decimal import Decimal\n",
    "import requests\n",
    "from bs4 import BeautifulSoup\n",
    "\n",
    "# Function to extract restaurant information from the Yelp page\n",
    "def extract_restaurant_info(url):\n",
    "    headers = {\n",
    "        \"User-Agent\": \"Mozilla/5.0 (Windows NT 10.0; Win64; x64) AppleWebKit/537.36 (KHTML, like Gecko) Chrome/91.0.4472.124 Safari/537.36\"\n",
    "    }\n",
    "    page = requests.get(url, headers=headers)\n",
    "    page.raise_for_status()\n",
    "    soup = BeautifulSoup(page.text, 'html.parser')\n",
    "\n",
    "    # Extract restaurant name\n",
    "    restaurant_name_tag = soup.find(\"h1\", class_=\"css-1se8maq\")\n",
    "    restaurant_name = restaurant_name_tag.text.strip() if restaurant_name_tag else \"Unknown\"\n",
    "\n",
    "    # Extract total reviews\n",
    "    review_count_tag = soup.find(\"a\", class_=\"css-19v1rkv\")\n",
    "    review_count = review_count_tag.text.strip().split()[0] if review_count_tag else \"Unknown\"\n",
    "\n",
    "    # Extract individual reviews\n",
    "    reviews = []\n",
    "    review_elements = soup.find_all(\"div\", class_=\"css-1qn0b6x\")\n",
    "    unique_reviews = set()  # To store unique review texts\n",
    "\n",
    "    for review_element in review_elements:\n",
    "        review_text_element = review_element.find(\"p\", class_=\"comment__09f24__D0cxf css-qgunke\")\n",
    "        review_text = review_text_element.text.strip() if review_text_element else \"Not Found\"\n",
    "\n",
    "        reviewer_element = review_element.find(\"a\", class_=\"css-19v1rkv\")\n",
    "        reviewer = reviewer_element.text.strip() if reviewer_element else \"Not Found\"\n",
    "        \n",
    "        rating_element = review_element.find(\"div\", class_=\"five-stars__09f24__mBKym five-stars--regular__09f24__DgBNj css-1jq1ouh\")\n",
    "        rating = None\n",
    "        if rating_element and \"aria-label\" in rating_element.attrs:\n",
    "            rating_label = rating_element[\"aria-label\"]\n",
    "            rating = Decimal(rating_label.split()[0]) if rating_label else None\n",
    "\n",
    "        reviews.append({\"Review_text\": review_text, \"Reviewer\": reviewer, \"Rating\": rating})\n",
    "\n",
    "    return restaurant_name, review_count, reviews\n",
    "\n",
    "# CSV File name\n",
    "csv_file_name = \"restaurant_reviews.csv\"\n",
    "\n",
    "# List of restaurant URLs\n",
    "restaurant_urls = [\n",
    "    \"https://www.yelp.ca/biz/pai-northern-thai-kitchen-toronto-5?osq=Restaurants\",\n",
    "]\n",
    "\n",
    "# Write the data to a CSV file\n",
    "with open(csv_file_name, mode='w', newline='', encoding='utf-8') as csv_file:\n",
    "    csv_writer = csv.writer(csv_file)\n",
    "    csv_writer.writerow([\"Restaurant Name\", \"Total Reviews\"])  # Write a header row\n",
    "\n",
    "    for url in restaurant_urls:\n",
    "        restaurant_name, review_count, reviews = extract_restaurant_info(url)\n",
    "        csv_writer.writerow([restaurant_name, review_count])\n",
    "\n",
    "        # Write individual reviews\n",
    "        csv_writer.writerow([\"Review_text\", \"Reviewer\", \"Rating\"])  # Header for reviews\n",
    "        for review in reviews:\n",
    "            csv_writer.writerow([review[\"Review_text\"], review[\"Reviewer\"], review[\"Rating\"]])\n",
    "\n",
    "print(f\"Data has been written to {csv_file_name}\")\n"
   ]
  },
  {
   "cell_type": "code",
   "execution_count": null,
   "id": "e3a1007a",
   "metadata": {},
   "outputs": [],
   "source": []
  }
 ],
 "metadata": {
  "kernelspec": {
   "display_name": "Python 3 (ipykernel)",
   "language": "python",
   "name": "python3"
  },
  "language_info": {
   "codemirror_mode": {
    "name": "ipython",
    "version": 3
   },
   "file_extension": ".py",
   "mimetype": "text/x-python",
   "name": "python",
   "nbconvert_exporter": "python",
   "pygments_lexer": "ipython3",
   "version": "3.10.13"
  }
 },
 "nbformat": 4,
 "nbformat_minor": 5
}
