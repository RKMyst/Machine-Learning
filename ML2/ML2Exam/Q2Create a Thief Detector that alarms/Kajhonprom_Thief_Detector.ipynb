{
 "cells": [
  {
   "cell_type": "markdown",
   "metadata": {},
   "source": [
    "# Thief Detector\n",
    "## This task tests your Image Processing skills to build a motion detection algorithm that alarms you when you have an unwanted visitor in your home."
   ]
  },
  {
   "cell_type": "markdown",
   "metadata": {},
   "source": [
    "## Steps\n",
    "- 1. Get the live video feed from your webcam\n",
    "- 2. Fix a scene (the place you want to monitor) and store it as a reference background image\n",
    "    - Store the first frame as the reference background frame\n",
    "- 3. For every frame, check if there is any unwanted object inside the scene you are monitoring\n",
    "    - Use **Background Subtraction** concept (**cv2.absdiff( )**)\n",
    "        - Subtract the current frame from the reference background image(frame) to see the changes in the scene\n",
    "        - If there is enormous amount of pixels distrubed in the subtraction result image\n",
    "            - unwanted visitor (place is unsafe --> alarm the authorities)\n",
    "        - If there is no enormous amount of pixels distrubed in the subtraction result image\n",
    "            - no unwanted visitor (place is safe)\n",
    "- 4. Output the text **\"UNSAFE\"** in **red** color on the top right of the frame when there is an intruder in the scene.\n",
    "- 5. Save the live feed\n",
    "- 6. Submit the (.ipynb) file"
   ]
  },
  {
   "cell_type": "markdown",
   "metadata": {},
   "source": [
    "## Get live video feed from webcam [10 points]"
   ]
  },
  {
   "cell_type": "code",
   "execution_count": 10,
   "metadata": {},
   "outputs": [
    {
     "ename": "KeyboardInterrupt",
     "evalue": "",
     "output_type": "error",
     "traceback": [
      "\u001b[0;31m---------------------------------------------------------------------------\u001b[0m",
      "\u001b[0;31mKeyboardInterrupt\u001b[0m                         Traceback (most recent call last)",
      "\u001b[1;32m/Users/maple/Library/Mobile Documents/com~apple~CloudDocs/Artificial Intelligence/AI GBC/AASD 4004 MACHINE LEARNING II AASD 4004/ML2Exam/Q2Create a Thief Detector that alarms/Kajhonprom_Thief_Detector.ipynb Cell 4\u001b[0m line \u001b[0;36m1\n\u001b[1;32m      <a href='vscode-notebook-cell:/Users/maple/Library/Mobile%20Documents/com~apple~CloudDocs/Artificial%20Intelligence/AI%20GBC/AASD%204004%20MACHINE%20LEARNING%20II%20AASD%204004/ML2Exam/Q2Create%20a%20Thief%20Detector%20that%20alarms/Kajhonprom_Thief_Detector.ipynb#W3sZmlsZQ%3D%3D?line=7'>8</a>\u001b[0m ret, frame \u001b[39m=\u001b[39m cap\u001b[39m.\u001b[39mread()\n\u001b[1;32m      <a href='vscode-notebook-cell:/Users/maple/Library/Mobile%20Documents/com~apple~CloudDocs/Artificial%20Intelligence/AI%20GBC/AASD%204004%20MACHINE%20LEARNING%20II%20AASD%204004/ML2Exam/Q2Create%20a%20Thief%20Detector%20that%20alarms/Kajhonprom_Thief_Detector.ipynb#W3sZmlsZQ%3D%3D?line=8'>9</a>\u001b[0m cv2\u001b[39m.\u001b[39mimshow(\u001b[39m'\u001b[39m\u001b[39mFace Video\u001b[39m\u001b[39m'\u001b[39m, frame)\n\u001b[0;32m---> <a href='vscode-notebook-cell:/Users/maple/Library/Mobile%20Documents/com~apple~CloudDocs/Artificial%20Intelligence/AI%20GBC/AASD%204004%20MACHINE%20LEARNING%20II%20AASD%204004/ML2Exam/Q2Create%20a%20Thief%20Detector%20that%20alarms/Kajhonprom_Thief_Detector.ipynb#W3sZmlsZQ%3D%3D?line=10'>11</a>\u001b[0m \u001b[39mif\u001b[39;00m cv2\u001b[39m.\u001b[39;49mwaitKey(\u001b[39m1\u001b[39;49m) \u001b[39m&\u001b[39m \u001b[39m0xFF\u001b[39m \u001b[39m==\u001b[39m \u001b[39m27\u001b[39m:\n\u001b[1;32m     <a href='vscode-notebook-cell:/Users/maple/Library/Mobile%20Documents/com~apple~CloudDocs/Artificial%20Intelligence/AI%20GBC/AASD%204004%20MACHINE%20LEARNING%20II%20AASD%204004/ML2Exam/Q2Create%20a%20Thief%20Detector%20that%20alarms/Kajhonprom_Thief_Detector.ipynb#W3sZmlsZQ%3D%3D?line=11'>12</a>\u001b[0m     \u001b[39mbreak\u001b[39;00m\n",
      "\u001b[0;31mKeyboardInterrupt\u001b[0m: "
     ]
    }
   ],
   "source": [
    "import numpy as np\n",
    "import cv2\n",
    "\n",
    "# Create a VideoCapture object to capture video from the webcam\n",
    "cap = cv2.VideoCapture(0)\n",
    "\n",
    "while True:\n",
    "    ret, frame = cap.read()\n",
    "    cv2.imshow('Face Video', frame)\n",
    "    \n",
    "    if cv2.waitKey(1) & 0xFF == 27:\n",
    "        break\n",
    "\n"
   ]
  },
  {
   "cell_type": "markdown",
   "metadata": {},
   "source": [
    "## Read first frame, convert to Grayscale and store it as reference background image [10 points]"
   ]
  },
  {
   "cell_type": "code",
   "execution_count": 14,
   "metadata": {},
   "outputs": [
    {
     "ename": "KeyboardInterrupt",
     "evalue": "",
     "output_type": "error",
     "traceback": [
      "\u001b[0;31m---------------------------------------------------------------------------\u001b[0m",
      "\u001b[0;31mKeyboardInterrupt\u001b[0m                         Traceback (most recent call last)",
      "\u001b[1;32m/Users/maple/Library/Mobile Documents/com~apple~CloudDocs/Artificial Intelligence/AI GBC/AASD 4004 MACHINE LEARNING II AASD 4004/ML2Exam/Q2Create a Thief Detector that alarms/Kajhonprom_Thief_Detector.ipynb Cell 6\u001b[0m line \u001b[0;36m8\n\u001b[1;32m      <a href='vscode-notebook-cell:/Users/maple/Library/Mobile%20Documents/com~apple~CloudDocs/Artificial%20Intelligence/AI%20GBC/AASD%204004%20MACHINE%20LEARNING%20II%20AASD%204004/ML2Exam/Q2Create%20a%20Thief%20Detector%20that%20alarms/Kajhonprom_Thief_Detector.ipynb#W5sZmlsZQ%3D%3D?line=4'>5</a>\u001b[0m     firstgray \u001b[39m=\u001b[39m cv2\u001b[39m.\u001b[39mcvtColor(frame, cv2\u001b[39m.\u001b[39mCOLOR_BGR2GRAY)\n\u001b[1;32m      <a href='vscode-notebook-cell:/Users/maple/Library/Mobile%20Documents/com~apple~CloudDocs/Artificial%20Intelligence/AI%20GBC/AASD%204004%20MACHINE%20LEARNING%20II%20AASD%204004/ML2Exam/Q2Create%20a%20Thief%20Detector%20that%20alarms/Kajhonprom_Thief_Detector.ipynb#W5sZmlsZQ%3D%3D?line=5'>6</a>\u001b[0m     cv2\u001b[39m.\u001b[39mimshow(\u001b[39m'\u001b[39m\u001b[39mGray video\u001b[39m\u001b[39m'\u001b[39m, firstgray)\n\u001b[0;32m----> <a href='vscode-notebook-cell:/Users/maple/Library/Mobile%20Documents/com~apple~CloudDocs/Artificial%20Intelligence/AI%20GBC/AASD%204004%20MACHINE%20LEARNING%20II%20AASD%204004/ML2Exam/Q2Create%20a%20Thief%20Detector%20that%20alarms/Kajhonprom_Thief_Detector.ipynb#W5sZmlsZQ%3D%3D?line=7'>8</a>\u001b[0m     \u001b[39mif\u001b[39;00m cv2\u001b[39m.\u001b[39;49mwaitKey(\u001b[39m1\u001b[39;49m) \u001b[39m&\u001b[39m \u001b[39m0xFF\u001b[39m \u001b[39m==\u001b[39m \u001b[39m27\u001b[39m:\n\u001b[1;32m      <a href='vscode-notebook-cell:/Users/maple/Library/Mobile%20Documents/com~apple~CloudDocs/Artificial%20Intelligence/AI%20GBC/AASD%204004%20MACHINE%20LEARNING%20II%20AASD%204004/ML2Exam/Q2Create%20a%20Thief%20Detector%20that%20alarms/Kajhonprom_Thief_Detector.ipynb#W5sZmlsZQ%3D%3D?line=8'>9</a>\u001b[0m         \u001b[39mbreak\u001b[39;00m\n\u001b[1;32m     <a href='vscode-notebook-cell:/Users/maple/Library/Mobile%20Documents/com~apple~CloudDocs/Artificial%20Intelligence/AI%20GBC/AASD%204004%20MACHINE%20LEARNING%20II%20AASD%204004/ML2Exam/Q2Create%20a%20Thief%20Detector%20that%20alarms/Kajhonprom_Thief_Detector.ipynb#W5sZmlsZQ%3D%3D?line=10'>11</a>\u001b[0m cv2\u001b[39m.\u001b[39mimwrite(\u001b[39m'\u001b[39m\u001b[39mreference_background.jpg\u001b[39m\u001b[39m'\u001b[39m, firstgray)\n",
      "\u001b[0;31mKeyboardInterrupt\u001b[0m: "
     ]
    }
   ],
   "source": [
    "while True:\n",
    "    ret, frame = cap.read()\n",
    "    cv2.imshow('Face Video', frame)\n",
    "    \n",
    "    firstgray = cv2.cvtColor(frame, cv2.COLOR_BGR2GRAY)\n",
    "    cv2.imshow('Gray video', firstgray)\n",
    "    \n",
    "    if cv2.waitKey(1) & 0xFF == 27:\n",
    "        break\n",
    "\n",
    "cv2.imwrite('reference_background.jpg', firstgray)"
   ]
  },
  {
   "cell_type": "markdown",
   "metadata": {},
   "source": [
    "## Compute Absolute Difference between Current and First frame [20 points]"
   ]
  },
  {
   "cell_type": "code",
   "execution_count": 4,
   "metadata": {},
   "outputs": [
    {
     "ename": "KeyboardInterrupt",
     "evalue": "",
     "output_type": "error",
     "traceback": [
      "\u001b[0;31m---------------------------------------------------------------------------\u001b[0m",
      "\u001b[0;31mKeyboardInterrupt\u001b[0m                         Traceback (most recent call last)",
      "\u001b[1;32m/Users/maple/Library/Mobile Documents/com~apple~CloudDocs/Artificial Intelligence/AI GBC/AASD 4004 MACHINE LEARNING II AASD 4004/ML2Exam/Q2Create a Thief Detector that alarms/Kajhonprom_Thief_Detector.ipynb Cell 8\u001b[0m line \u001b[0;36m1\n\u001b[1;32m      <a href='vscode-notebook-cell:/Users/maple/Library/Mobile%20Documents/com~apple~CloudDocs/Artificial%20Intelligence/AI%20GBC/AASD%204004%20MACHINE%20LEARNING%20II%20AASD%204004/ML2Exam/Q2Create%20a%20Thief%20Detector%20that%20alarms/Kajhonprom_Thief_Detector.ipynb#X10sZmlsZQ%3D%3D?line=7'>8</a>\u001b[0m cv2\u001b[39m.\u001b[39mimshow(\u001b[39m'\u001b[39m\u001b[39mAbsolute Difference\u001b[39m\u001b[39m'\u001b[39m, abs_diff)\n\u001b[1;32m     <a href='vscode-notebook-cell:/Users/maple/Library/Mobile%20Documents/com~apple~CloudDocs/Artificial%20Intelligence/AI%20GBC/AASD%204004%20MACHINE%20LEARNING%20II%20AASD%204004/ML2Exam/Q2Create%20a%20Thief%20Detector%20that%20alarms/Kajhonprom_Thief_Detector.ipynb#X10sZmlsZQ%3D%3D?line=9'>10</a>\u001b[0m prev_frame_gray \u001b[39m=\u001b[39m current_frame_gray\n\u001b[0;32m---> <a href='vscode-notebook-cell:/Users/maple/Library/Mobile%20Documents/com~apple~CloudDocs/Artificial%20Intelligence/AI%20GBC/AASD%204004%20MACHINE%20LEARNING%20II%20AASD%204004/ML2Exam/Q2Create%20a%20Thief%20Detector%20that%20alarms/Kajhonprom_Thief_Detector.ipynb#X10sZmlsZQ%3D%3D?line=11'>12</a>\u001b[0m \u001b[39mif\u001b[39;00m cv2\u001b[39m.\u001b[39;49mwaitKey(\u001b[39m1\u001b[39;49m) \u001b[39m&\u001b[39m \u001b[39m0xFF\u001b[39m \u001b[39m==\u001b[39m \u001b[39m27\u001b[39m:\n\u001b[1;32m     <a href='vscode-notebook-cell:/Users/maple/Library/Mobile%20Documents/com~apple~CloudDocs/Artificial%20Intelligence/AI%20GBC/AASD%204004%20MACHINE%20LEARNING%20II%20AASD%204004/ML2Exam/Q2Create%20a%20Thief%20Detector%20that%20alarms/Kajhonprom_Thief_Detector.ipynb#X10sZmlsZQ%3D%3D?line=12'>13</a>\u001b[0m     \u001b[39mbreak\u001b[39;00m\n",
      "\u001b[0;31mKeyboardInterrupt\u001b[0m: "
     ]
    }
   ],
   "source": [
    "while True:\n",
    "    ret, frame2 = cap.read()\n",
    "\n",
    "    current_frame_gray = cv2.cvtColor(frame2, cv2.COLOR_BGR2GRAY)\n",
    "\n",
    "    abs_diff = cv2.absdiff(firstgray, current_frame_gray)\n",
    "\n",
    "    cv2.imshow('Absolute Difference', abs_diff)\n",
    "\n",
    "    prev_frame_gray = current_frame_gray\n",
    "\n",
    "    if cv2.waitKey(1) & 0xFF == 27:\n",
    "        break"
   ]
  },
  {
   "cell_type": "markdown",
   "metadata": {},
   "source": [
    "## Apply threshold [5 points]"
   ]
  },
  {
   "cell_type": "code",
   "execution_count": 5,
   "metadata": {},
   "outputs": [
    {
     "ename": "KeyboardInterrupt",
     "evalue": "",
     "output_type": "error",
     "traceback": [
      "\u001b[0;31m---------------------------------------------------------------------------\u001b[0m",
      "\u001b[0;31mKeyboardInterrupt\u001b[0m                         Traceback (most recent call last)",
      "\u001b[1;32m/Users/maple/Library/Mobile Documents/com~apple~CloudDocs/Artificial Intelligence/AI GBC/AASD 4004 MACHINE LEARNING II AASD 4004/ML2Exam/Q2Create a Thief Detector that alarms/Kajhonprom_Thief_Detector.ipynb Cell 10\u001b[0m line \u001b[0;36m4\n\u001b[1;32m      <a href='vscode-notebook-cell:/Users/maple/Library/Mobile%20Documents/com~apple~CloudDocs/Artificial%20Intelligence/AI%20GBC/AASD%204004%20MACHINE%20LEARNING%20II%20AASD%204004/ML2Exam/Q2Create%20a%20Thief%20Detector%20that%20alarms/Kajhonprom_Thief_Detector.ipynb#X12sZmlsZQ%3D%3D?line=1'>2</a>\u001b[0m _, thresholded \u001b[39m=\u001b[39m cv2\u001b[39m.\u001b[39mthreshold(abs_diff, \u001b[39m30\u001b[39m, \u001b[39m255\u001b[39m, cv2\u001b[39m.\u001b[39mTHRESH_BINARY)\n\u001b[1;32m      <a href='vscode-notebook-cell:/Users/maple/Library/Mobile%20Documents/com~apple~CloudDocs/Artificial%20Intelligence/AI%20GBC/AASD%204004%20MACHINE%20LEARNING%20II%20AASD%204004/ML2Exam/Q2Create%20a%20Thief%20Detector%20that%20alarms/Kajhonprom_Thief_Detector.ipynb#X12sZmlsZQ%3D%3D?line=2'>3</a>\u001b[0m cv2\u001b[39m.\u001b[39mimshow(\u001b[39m'\u001b[39m\u001b[39mThresholded Image\u001b[39m\u001b[39m'\u001b[39m, thresholded)\n\u001b[0;32m----> <a href='vscode-notebook-cell:/Users/maple/Library/Mobile%20Documents/com~apple~CloudDocs/Artificial%20Intelligence/AI%20GBC/AASD%204004%20MACHINE%20LEARNING%20II%20AASD%204004/ML2Exam/Q2Create%20a%20Thief%20Detector%20that%20alarms/Kajhonprom_Thief_Detector.ipynb#X12sZmlsZQ%3D%3D?line=3'>4</a>\u001b[0m \u001b[39mif\u001b[39;00m cv2\u001b[39m.\u001b[39;49mwaitKey(\u001b[39m1\u001b[39;49m) \u001b[39m&\u001b[39m \u001b[39m0xFF\u001b[39m \u001b[39m==\u001b[39m \u001b[39m27\u001b[39m:\n\u001b[1;32m      <a href='vscode-notebook-cell:/Users/maple/Library/Mobile%20Documents/com~apple~CloudDocs/Artificial%20Intelligence/AI%20GBC/AASD%204004%20MACHINE%20LEARNING%20II%20AASD%204004/ML2Exam/Q2Create%20a%20Thief%20Detector%20that%20alarms/Kajhonprom_Thief_Detector.ipynb#X12sZmlsZQ%3D%3D?line=4'>5</a>\u001b[0m     \u001b[39mbreak\u001b[39;00m\n",
      "\u001b[0;31mKeyboardInterrupt\u001b[0m: "
     ]
    }
   ],
   "source": [
    "while True:\n",
    "    _, thresholded = cv2.threshold(abs_diff, 30, 255, cv2.THRESH_BINARY)\n",
    "    cv2.imshow('Thresholded Image', thresholded)\n",
    "    if cv2.waitKey(1) & 0xFF == 27:\n",
    "        break"
   ]
  },
  {
   "cell_type": "markdown",
   "metadata": {},
   "source": [
    "## Find contours [10 points]"
   ]
  },
  {
   "cell_type": "code",
   "execution_count": 6,
   "metadata": {},
   "outputs": [
    {
     "ename": "KeyboardInterrupt",
     "evalue": "",
     "output_type": "error",
     "traceback": [
      "\u001b[0;31m---------------------------------------------------------------------------\u001b[0m",
      "\u001b[0;31mKeyboardInterrupt\u001b[0m                         Traceback (most recent call last)",
      "\u001b[1;32m/Users/maple/Library/Mobile Documents/com~apple~CloudDocs/Artificial Intelligence/AI GBC/AASD 4004 MACHINE LEARNING II AASD 4004/ML2Exam/Q2Create a Thief Detector that alarms/Kajhonprom_Thief_Detector.ipynb Cell 12\u001b[0m line \u001b[0;36m5\n\u001b[1;32m      <a href='vscode-notebook-cell:/Users/maple/Library/Mobile%20Documents/com~apple~CloudDocs/Artificial%20Intelligence/AI%20GBC/AASD%204004%20MACHINE%20LEARNING%20II%20AASD%204004/ML2Exam/Q2Create%20a%20Thief%20Detector%20that%20alarms/Kajhonprom_Thief_Detector.ipynb#X14sZmlsZQ%3D%3D?line=2'>3</a>\u001b[0m cv2\u001b[39m.\u001b[39mdrawContours(frame2, contours, \u001b[39m-\u001b[39m\u001b[39m1\u001b[39m, (\u001b[39m0\u001b[39m, \u001b[39m255\u001b[39m, \u001b[39m0\u001b[39m), \u001b[39m2\u001b[39m)\n\u001b[1;32m      <a href='vscode-notebook-cell:/Users/maple/Library/Mobile%20Documents/com~apple~CloudDocs/Artificial%20Intelligence/AI%20GBC/AASD%204004%20MACHINE%20LEARNING%20II%20AASD%204004/ML2Exam/Q2Create%20a%20Thief%20Detector%20that%20alarms/Kajhonprom_Thief_Detector.ipynb#X14sZmlsZQ%3D%3D?line=3'>4</a>\u001b[0m cv2\u001b[39m.\u001b[39mimshow(\u001b[39m'\u001b[39m\u001b[39mFrame with Contours\u001b[39m\u001b[39m'\u001b[39m, frame2)\n\u001b[0;32m----> <a href='vscode-notebook-cell:/Users/maple/Library/Mobile%20Documents/com~apple~CloudDocs/Artificial%20Intelligence/AI%20GBC/AASD%204004%20MACHINE%20LEARNING%20II%20AASD%204004/ML2Exam/Q2Create%20a%20Thief%20Detector%20that%20alarms/Kajhonprom_Thief_Detector.ipynb#X14sZmlsZQ%3D%3D?line=4'>5</a>\u001b[0m \u001b[39mif\u001b[39;00m cv2\u001b[39m.\u001b[39;49mwaitKey(\u001b[39m1\u001b[39;49m) \u001b[39m&\u001b[39m \u001b[39m0xFF\u001b[39m \u001b[39m==\u001b[39m \u001b[39m27\u001b[39m:\n\u001b[1;32m      <a href='vscode-notebook-cell:/Users/maple/Library/Mobile%20Documents/com~apple~CloudDocs/Artificial%20Intelligence/AI%20GBC/AASD%204004%20MACHINE%20LEARNING%20II%20AASD%204004/ML2Exam/Q2Create%20a%20Thief%20Detector%20that%20alarms/Kajhonprom_Thief_Detector.ipynb#X14sZmlsZQ%3D%3D?line=5'>6</a>\u001b[0m     \u001b[39mbreak\u001b[39;00m\n",
      "\u001b[0;31mKeyboardInterrupt\u001b[0m: "
     ]
    }
   ],
   "source": [
    "while True:\n",
    "    contours, _ = cv2.findContours(thresholded, cv2.RETR_EXTERNAL, cv2.CHAIN_APPROX_SIMPLE)\n",
    "    cv2.drawContours(frame2, contours, -1, (0, 255, 0), 2)\n",
    "    cv2.imshow('Frame with Contours', frame2)\n",
    "    if cv2.waitKey(1) & 0xFF == 27:\n",
    "        break"
   ]
  },
  {
   "cell_type": "markdown",
   "metadata": {},
   "source": [
    "## Check if contourArea is large and draw rectangle around the object, output \"UNSAFE\" text in red color [30 points]"
   ]
  },
  {
   "cell_type": "code",
   "execution_count": 7,
   "metadata": {},
   "outputs": [],
   "source": [
    "for contour in contours:\n",
    "    area = cv2.contourArea(contour)\n",
    "    if area > 1000:\n",
    "                \n",
    "        x, y, w, h = cv2.boundingRect(contour)\n",
    "        cv2.rectangle(frame2, (x, y), (x + w, y + h), (0, 255, 0), 2)\n",
    "        cv2.putText(frame2, \"UNSAFE\", (x, y - 10), cv2.FONT_HERSHEY_SIMPLEX, 0.9, (0, 0, 255), 2)\n",
    "        cv2.imshow('Frame with Contours', frame2)"
   ]
  },
  {
   "cell_type": "markdown",
   "metadata": {},
   "source": [
    "## Display images [10 points]"
   ]
  },
  {
   "cell_type": "code",
   "execution_count": 8,
   "metadata": {},
   "outputs": [
    {
     "ename": "KeyboardInterrupt",
     "evalue": "",
     "output_type": "error",
     "traceback": [
      "\u001b[0;31m---------------------------------------------------------------------------\u001b[0m",
      "\u001b[0;31mKeyboardInterrupt\u001b[0m                         Traceback (most recent call last)",
      "\u001b[1;32m/Users/maple/Library/Mobile Documents/com~apple~CloudDocs/Artificial Intelligence/AI GBC/AASD 4004 MACHINE LEARNING II AASD 4004/ML2Exam/Q2Create a Thief Detector that alarms/Kajhonprom_Thief_Detector.ipynb Cell 16\u001b[0m line \u001b[0;36m3\n\u001b[1;32m      <a href='vscode-notebook-cell:/Users/maple/Library/Mobile%20Documents/com~apple~CloudDocs/Artificial%20Intelligence/AI%20GBC/AASD%204004%20MACHINE%20LEARNING%20II%20AASD%204004/ML2Exam/Q2Create%20a%20Thief%20Detector%20that%20alarms/Kajhonprom_Thief_Detector.ipynb#X21sZmlsZQ%3D%3D?line=0'>1</a>\u001b[0m \u001b[39mwhile\u001b[39;00m \u001b[39mTrue\u001b[39;00m:\n\u001b[1;32m      <a href='vscode-notebook-cell:/Users/maple/Library/Mobile%20Documents/com~apple~CloudDocs/Artificial%20Intelligence/AI%20GBC/AASD%204004%20MACHINE%20LEARNING%20II%20AASD%204004/ML2Exam/Q2Create%20a%20Thief%20Detector%20that%20alarms/Kajhonprom_Thief_Detector.ipynb#X21sZmlsZQ%3D%3D?line=1'>2</a>\u001b[0m     cv2\u001b[39m.\u001b[39mimshow(\u001b[39m'\u001b[39m\u001b[39mDetected Objects\u001b[39m\u001b[39m'\u001b[39m, frame2)\n\u001b[0;32m----> <a href='vscode-notebook-cell:/Users/maple/Library/Mobile%20Documents/com~apple~CloudDocs/Artificial%20Intelligence/AI%20GBC/AASD%204004%20MACHINE%20LEARNING%20II%20AASD%204004/ML2Exam/Q2Create%20a%20Thief%20Detector%20that%20alarms/Kajhonprom_Thief_Detector.ipynb#X21sZmlsZQ%3D%3D?line=2'>3</a>\u001b[0m     \u001b[39mif\u001b[39;00m cv2\u001b[39m.\u001b[39;49mwaitKey(\u001b[39m1\u001b[39;49m) \u001b[39m&\u001b[39m \u001b[39m0xFF\u001b[39m \u001b[39m==\u001b[39m \u001b[39m27\u001b[39m:\n\u001b[1;32m      <a href='vscode-notebook-cell:/Users/maple/Library/Mobile%20Documents/com~apple~CloudDocs/Artificial%20Intelligence/AI%20GBC/AASD%204004%20MACHINE%20LEARNING%20II%20AASD%204004/ML2Exam/Q2Create%20a%20Thief%20Detector%20that%20alarms/Kajhonprom_Thief_Detector.ipynb#X21sZmlsZQ%3D%3D?line=3'>4</a>\u001b[0m         \u001b[39mbreak\u001b[39;00m\n",
      "\u001b[0;31mKeyboardInterrupt\u001b[0m: "
     ]
    }
   ],
   "source": [
    "while True:\n",
    "    cv2.imshow('Detected Objects', frame2)\n",
    "    if cv2.waitKey(1) & 0xFF == 27:\n",
    "        break"
   ]
  },
  {
   "cell_type": "markdown",
   "metadata": {},
   "source": [
    "## Release objects [5 points]"
   ]
  },
  {
   "cell_type": "code",
   "execution_count": 9,
   "metadata": {},
   "outputs": [],
   "source": [
    "cap.release()\n",
    "cv2.destroyAllWindows()"
   ]
  }
 ],
 "metadata": {
  "kernelspec": {
   "display_name": "T431",
   "language": "python",
   "name": "python3"
  },
  "language_info": {
   "codemirror_mode": {
    "name": "ipython",
    "version": 3
   },
   "file_extension": ".py",
   "mimetype": "text/x-python",
   "name": "python",
   "nbconvert_exporter": "python",
   "pygments_lexer": "ipython3",
   "version": "3.11.5"
  }
 },
 "nbformat": 4,
 "nbformat_minor": 4
}
