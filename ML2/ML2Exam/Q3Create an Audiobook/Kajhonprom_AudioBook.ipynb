{
 "cells": [
  {
   "cell_type": "markdown",
   "metadata": {},
   "source": [
    "# Create an Audiobook from a PDF\n",
    "## This task tests your ability to apply Text to Speech conversion and Extraction of Text from PDF files in the creation of an audiobook from a PDF file"
   ]
  },
  {
   "cell_type": "markdown",
   "metadata": {},
   "source": [
    "### Steps\n",
    "- Extract text from PDF file\n",
    "- Clean the text\n",
    "- Convert the text into speech\n",
    "- Save the speech\n",
    "- Play the speech"
   ]
  },
  {
   "cell_type": "markdown",
   "metadata": {},
   "source": [
    "## 1. Extract text from PDF\n",
    "- Use PyPDF2"
   ]
  },
  {
   "cell_type": "markdown",
   "metadata": {},
   "source": [
    "### Install the library"
   ]
  },
  {
   "cell_type": "code",
   "execution_count": 1,
   "metadata": {},
   "outputs": [
    {
     "name": "stdout",
     "output_type": "stream",
     "text": [
      "Collecting PyPDF2\n",
      "  Downloading pypdf2-3.0.1-py3-none-any.whl (232 kB)\n",
      "\u001b[2K     \u001b[90m━━━━━━━━━━━━━━━━━━━━━━━━━━━━━━━━━━━━━━━\u001b[0m \u001b[32m232.6/232.6 kB\u001b[0m \u001b[31m6.7 MB/s\u001b[0m eta \u001b[36m0:00:00\u001b[0m\n",
      "\u001b[?25hInstalling collected packages: PyPDF2\n",
      "Successfully installed PyPDF2-3.0.1\n"
     ]
    }
   ],
   "source": [
    "#! pip install PyPDF2"
   ]
  },
  {
   "cell_type": "markdown",
   "metadata": {},
   "source": [
    "### Import the library"
   ]
  },
  {
   "cell_type": "code",
   "execution_count": 1,
   "metadata": {},
   "outputs": [],
   "source": [
    "from PyPDF2 import PdfReader"
   ]
  },
  {
   "cell_type": "markdown",
   "metadata": {},
   "source": [
    "### Extract the text"
   ]
  },
  {
   "cell_type": "code",
   "execution_count": 2,
   "metadata": {},
   "outputs": [],
   "source": [
    "def extract_text_from_pdf(pdf_path):\n",
    "    pdf_reader = PdfReader(\"StrenghtFinder2.0Eng.pdf\")\n",
    "    text = \"\"\n",
    "    for page in pdf_reader.pages:\n",
    "        text += page.extract_text() + \"\\n\"\n",
    "    return text"
   ]
  },
  {
   "cell_type": "markdown",
   "metadata": {},
   "source": [
    "### Print the extracted text"
   ]
  },
  {
   "cell_type": "code",
   "execution_count": 3,
   "metadata": {},
   "outputs": [
    {
     "name": "stdout",
     "output_type": "stream",
     "text": [
      "Kajhonprom Trongkitroongruang \n",
      "Strengths Insight Guide SURVEY COMPLETION DATE:  10-08-2019 \n",
      "DON CLIFTON \n",
      "Father of Strengths Psychology and \n",
      "Inventor of CliftonStrengths \n",
      "55667337 (Kajhonprom Trongkitroongruang)\n",
      "Copyright © 2000, 2006-2012 Gallup, Inc. All rights reserved.1\n",
      "Kajhonprom Trongkitroongruang SURVEY COMPLETION DATE:  10-08-2019 \n",
      "Depending on the order of your themes and how you responded to the assessment, some of your themes \n",
      "may share identical insight statements. If this occurs, the lower ranked theme will not display insight \n",
      "statements to avoid duplication on your report. \n",
      "Your Top 5 Themes \n",
      "1. Learner \n",
      "2. Intellection \n",
      "3. Input \n",
      "4. Focus \n",
      "5. Futuristic \n",
      "55667337 (Kajhonprom Trongkitroongruang)\n",
      "Copyright © 2000, 2006-2012 Gallup, Inc. All rights reserved.2\n",
      "Learner \n",
      "SHARED THEME DESCRIPTION \n",
      "People who are especially talented in the Learner theme have a great desire to learn and want to \n",
      "continuously improve. In particular, the process of learning, rather than the outcome, excites them. \n",
      "YOUR PERSONALIZED STRENGTHS INSIGHTS \n",
      "What makes you stand out? \n",
      "Because of your strengths, you acquire knowledge more easily when you can talk with others about ideas, \n",
      "concepts, or theories. Thoughts come alive for you when questions are posed and answers are proposed. \n",
      "You have a delightful time thinking out loud and listening to intelligent people express themselves. You \n",
      "naturally document or store in your mind bits and pieces of discussions. You want to refer back to these \n",
      "insights or facts whenever the opportunity presents itself. Driven by your talents, you can block out \n",
      "distractions when you are working or studying. You are seldom pulled away from a task. You probably \n",
      "desire to understand ahead of time what needs to be done. You also expect to receive background \n",
      "briefings and/or a list of a project’s criteria. Armed with this information, you move closer to your goal. With \n",
      "ease and certitude — that is, having no doubts — you determine what is and is not important to know \n",
      "about an activity, event, or project. Chances are good that you yearn to know a lot. It makes little sense to \n",
      "you to skim through a book and read only the highlights. You delve more deeply into intriguing subjects \n",
      "than most people do. You love to gather all kinds of information. This explains why you take time to grasp \n",
      "ideas that appear in print. By nature, you think intensely whenever you are working on tasks that match \n",
      "your area of expertise or pique — that is, arouse and excite — your natural curiosity. Rarely do you allow \n",
      "distractions to pull your mind away from topics, issues, questions, or experiments that intrigue you. \n",
      "Intrusions that often distract others are seldom a problem for you. Instinctively, you absorb all sorts of \n",
      "information from books, publications, or other written materials. You display a voracious — that is, never \n",
      "fully satisfied — appetite for knowledge. You devour the written word to savor useful facts. For you, a great \n",
      "day is one during which you have added new insights to your mind’s storehouse of ideas. \n",
      "Questions \n",
      "1. As you read your personalized strengths insights, what words, phrases, or lines stand out to you? \n",
      "2. Out of all the talents in this insight, what would you like for others to see most in you? \n",
      "55667337 (Kajhonprom Trongkitroongruang)\n",
      "Copyright © 2000, 2006-2012 Gallup, Inc. All rights reserved.3\n",
      "Intellection \n",
      "SHARED THEME DESCRIPTION \n",
      "People who are especially talented in the Intellection theme are characterized by their intellectual activity. \n",
      "They are introspective and appreciate intellectual discussions. \n",
      "YOUR PERSONALIZED STRENGTHS INSIGHTS \n",
      "What makes you stand out? \n",
      "Driven by your talents, you probably enjoy the company of forward-looking individuals. They think about \n",
      "what the world will be like in the coming years, decades, or centuries. Undoubtedly, you read as much as \n",
      "you can about these people. In addition, you are likely to have studied in detail the books and articles they \n",
      "have authored. Instinctively, you think carefully about weighty matters. You enjoy reflecting on the people \n",
      "and/or circumstances in your life. You rely less on emotion and more on logic to draw reasonable \n",
      "conclusions. Simply put: You tend to use your mind rather than your heart when making critical judgments. \n",
      "You are quite comfortable being alone with your thoughts. You have little need to be constantly surrounded \n",
      "by talkative people. By nature, you are willing to spend time sharing your ideas with intelligent individuals. \n",
      "Of course, you want them to tell you their latest thinking. Conversations that involve a lot of questions and \n",
      "answers stimulate your mind. You know you have spent your time wisely when you have a number of new \n",
      "ideas, theories, or concepts to somehow file away or remember for future use. It’s very likely that you \n",
      "derive immense pleasure from work that requires intense, thorough, and careful consideration of the facts. \n",
      "You weigh the consequences of what you do, fail to do, and say. Your precision becomes apparent when \n",
      "you concentrate on small, factual details. You are also known for adhering to prescribed policies, \n",
      "procedures, standards, or specifications. Chances are good that you tend to express your doubts about \n",
      "various ideas, theories, or concepts. Using your brainpower, you put aside your emotions while calmly \n",
      "absorbing as much information as you can. Even though you may have never experienced a particular \n",
      "situation, event, opportunity, or dilemma, you exhibit the mental capacity to project yourself into it. Lively \n",
      "conversations with intelligent individuals stimulate your thinking about abstract or complex topics. \n",
      "Questions \n",
      "1. As you read your personalized strengths insights, what words, phrases, or lines stand out to you? \n",
      "2. Out of all the talents in this insight, what would you like for others to see most in you? \n",
      "55667337 (Kajhonprom Trongkitroongruang)\n",
      "Copyright © 2000, 2006-2012 Gallup, Inc. All rights reserved.4\n",
      "Input \n",
      "SHARED THEME DESCRIPTION \n",
      "People who are especially talented in the Input theme have a craving to know more. Often they like to \n",
      "collect and archive all kinds of information. \n",
      "YOUR PERSONALIZED STRENGTHS INSIGHTS \n",
      "What makes you stand out? \n",
      "Chances are good that you try to collect straightforward and precise words. Sometimes your enthusiasm \n",
      "for language causes you to expand your vocabulary. You might like to talk or write about philosophies, \n",
      "ideas, or theories that have not been proved or plans that have not been put into practice yet. Acquiring \n",
      "sophisticated terminology may be play for you, not work. Perhaps an unexpected chance to use these \n",
      "words in real life gives you satisfaction. By nature, you believe you make great strides mentally when you \n",
      "have opportunities to exchange ideas, theories, or concepts with intelligent people. You delight in \n",
      "accumulating unusual insights. Often you expand on these thoughts. You probably are eager to test them \n",
      "during conversations with other intelligent individuals. This is one way you broaden your knowledge base. \n",
      "Driven by your talents, you enjoy reading, but you refrain from accepting information on its face value — \n",
      "that is, its seeming worth or truth. Typically you examine ideas, suggestions, or facts from a variety of \n",
      "angles. Only then do you judge what is worth filing away, taking notes on, or remembering for later \n",
      "reference. It’s very likely that you continually expand your sphere of knowledge by reading. A good book or \n",
      "a well-written magazine article can transport you to other cultures or centuries. The printed word — \n",
      "whether on paper or on a computer screen — is your passport to new destinations. Like world travelers, \n",
      "you pick up a variety of souvenirs from your reading, such as facts, data, characters, plots, insights, or tips. \n",
      "Instinctively, you put yourself in the middle of mentally stimulating conversations. You want to gather new \n",
      "ideas, discover new approaches, hear about new theories, consider new concepts, or apply new \n",
      "technologies. Often you are one of the early discoverers of innovations. Others can lag behind if they wish, \n",
      "but you consistently acquire knowledge. You exhibit little need to know precisely where all this information \n",
      "ultimately will lead you. \n",
      "Questions \n",
      "1. As you read your personalized strengths insights, what words, phrases, or lines stand out to you? \n",
      "2. Out of all the talents in this insight, what would you like for others to see most in you? \n",
      "55667337 (Kajhonprom Trongkitroongruang)\n",
      "Copyright © 2000, 2006-2012 Gallup, Inc. All rights reserved.5\n",
      "Focus \n",
      "SHARED THEME DESCRIPTION \n",
      "People who are especially talented in the Focus theme can take a direction, follow through, and make the \n",
      "corrections necessary to stay on track. They prioritize, then act. \n",
      "YOUR PERSONALIZED STRENGTHS INSIGHTS \n",
      "What makes you stand out? \n",
      "It’s very likely that you have a great desire to advance personally and professionally. To progress rapidly in \n",
      "the direction of your goals, you concentrate on those things you must do better, more completely, or more \n",
      "perfectly. You are less likely to practice what you already do naturally and quite well. Because of your \n",
      "strengths, you are likely to have a reputation for wanting to succeed, to be noticed, and to make a good \n",
      "impression on important people. You aim to acquire titles, promotions, or pay increases. You probably \n",
      "yearn to gain these and other status symbols. Instinctively, you often direct your attention toward what you \n",
      "want to accomplish in the coming months, years, or decades. Your enthusiasm naturally increases when \n",
      "you spend time in the company of possibility thinkers. Chances are good that you genuinely appreciate \n",
      "forward-looking thinkers who help you envision the future. They usually inspire you to outline the tasks and \n",
      "list the deadlines for reaching each of your goals. Having a plan to follow improves your chances of \n",
      "accomplishing what you desire in the coming months, years, or decades. Driven by your talents, you \n",
      "exhibit a deep-seated desire to succeed. You intentionally and unapologetically strive for promotions, fame, \n",
      "or financial gain by showcasing your natural or acquired abilities. You often perform special tasks with \n",
      "apparent ease. \n",
      "Questions \n",
      "1. As you read your personalized strengths insights, what words, phrases, or lines stand out to you? \n",
      "2. Out of all the talents in this insight, what would you like for others to see most in you? \n",
      "55667337 (Kajhonprom Trongkitroongruang)\n",
      "Copyright © 2000, 2006-2012 Gallup, Inc. All rights reserved.6\n",
      "Futuristic \n",
      "SHARED THEME DESCRIPTION \n",
      "People who are especially talented in the Futuristic theme are inspired by the future and what could be. \n",
      "They inspire others with their visions of the future. \n",
      "YOUR PERSONALIZED STRENGTHS INSIGHTS \n",
      "What makes you stand out? \n",
      "Because of your strengths, you create detailed and vivid images of what the future promises. You can \n",
      "describe it long before others can imagine it. Instinctively, you are much more innovative when you have \n",
      "ample time to process ideas. As long as you are not pressured to think fast, you can generate many \n",
      "original proposals, alternatives, or tactics for the coming months, years, or decades. Chances are good that \n",
      "you are an individual contributor who thinks about the goals you want to reach in the coming months, \n",
      "years, or decades. Your imagination ordinarily pulls you into the future even as you work on current \n",
      "assignments. By nature, you prefer to spend time with visionaries. Why? You probably enjoy listening to \n",
      "them describe innovative products, labor-saving devices, medical possibilities, or new ways of governing. \n",
      "Thinking about only the present usually bores you. Driven by your talents, you are innovative, inventive, \n",
      "original, and resourceful. Your mind allows you to venture beyond the commonplace, the familiar, or the \n",
      "obvious. You entertain ideas about the best ways to reach a goal, increase productivity, or solve a problem. \n",
      "First, you think of alternatives. Then you choose the best option. \n",
      "Questions \n",
      "1. As you read your personalized strengths insights, what words, phrases, or lines stand out to you? \n",
      "2. Out of all the talents in this insight, what would you like for others to see most in you? \n",
      "55667337 (Kajhonprom Trongkitroongruang)\n",
      "Copyright © 2000, 2006-2012 Gallup, Inc. All rights reserved.7\n",
      "\n"
     ]
    }
   ],
   "source": [
    "pdf_path = \"StrenghtFinder2.0Eng.pdf\"\n",
    "extracted_text = extract_text_from_pdf(pdf_path)\n",
    "print(extracted_text)"
   ]
  },
  {
   "cell_type": "markdown",
   "metadata": {},
   "source": [
    "## 2. Convert the Text into Speech\n",
    "- Use **pyttsx3** OR **gTTS**"
   ]
  },
  {
   "cell_type": "markdown",
   "metadata": {},
   "source": [
    "### Install the library"
   ]
  },
  {
   "cell_type": "code",
   "execution_count": 4,
   "metadata": {},
   "outputs": [],
   "source": [
    "#!pip install gtts"
   ]
  },
  {
   "cell_type": "markdown",
   "metadata": {},
   "source": [
    "### Import the library\n",
    "### Initialize a Speaker object"
   ]
  },
  {
   "cell_type": "code",
   "execution_count": 5,
   "metadata": {},
   "outputs": [],
   "source": [
    "from gtts import gTTS"
   ]
  },
  {
   "cell_type": "code",
   "execution_count": 10,
   "metadata": {},
   "outputs": [],
   "source": [
    "language = 'en'\n",
    "speech = gTTS(text = extracted_text, lang = language, slow = False)"
   ]
  },
  {
   "cell_type": "markdown",
   "metadata": {},
   "source": [
    "### Convert the text"
   ]
  },
  {
   "cell_type": "code",
   "execution_count": 12,
   "metadata": {},
   "outputs": [],
   "source": [
    "# previous step\n"
   ]
  },
  {
   "cell_type": "markdown",
   "metadata": {},
   "source": [
    "### Save the audio"
   ]
  },
  {
   "cell_type": "code",
   "execution_count": 14,
   "metadata": {},
   "outputs": [],
   "source": [
    "speech.save('Kajhonprom_AudioBook.wav')"
   ]
  },
  {
   "cell_type": "code",
   "execution_count": null,
   "metadata": {},
   "outputs": [],
   "source": []
  },
  {
   "cell_type": "code",
   "execution_count": null,
   "metadata": {},
   "outputs": [],
   "source": []
  }
 ],
 "metadata": {
  "kernelspec": {
   "display_name": "T431",
   "language": "python",
   "name": "python3"
  },
  "language_info": {
   "codemirror_mode": {
    "name": "ipython",
    "version": 3
   },
   "file_extension": ".py",
   "mimetype": "text/x-python",
   "name": "python",
   "nbconvert_exporter": "python",
   "pygments_lexer": "ipython3",
   "version": "3.11.5"
  }
 },
 "nbformat": 4,
 "nbformat_minor": 4
}
