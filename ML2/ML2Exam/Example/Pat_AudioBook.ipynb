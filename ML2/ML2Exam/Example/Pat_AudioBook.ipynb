{
  "cells": [
    {
      "cell_type": "markdown",
      "metadata": {
        "id": "YhDN9M7TBh_S"
      },
      "source": [
        "# Create an Audiobook from a PDF\n",
        "## This task tests your ability to apply Text to Speech conversion and Extraction of Text from PDF files in the creation of an audiobook from a PDF file"
      ]
    },
    {
      "cell_type": "markdown",
      "metadata": {
        "id": "d_w7W86vBh_W"
      },
      "source": [
        "### Steps\n",
        "- Extract text from PDF file\n",
        "- Clean the text\n",
        "- Convert the text into speech\n",
        "- Save the speech\n",
        "- Play the speech"
      ]
    },
    {
      "cell_type": "markdown",
      "metadata": {
        "id": "9_2WZKwuBh_X"
      },
      "source": [
        "## 1. Extract text from PDF\n",
        "- Use PyPDF2"
      ]
    },
    {
      "cell_type": "markdown",
      "metadata": {
        "id": "t2qt1Hf_Bh_Y"
      },
      "source": [
        "### Install the library"
      ]
    },
    {
      "cell_type": "code",
      "execution_count": 1,
      "metadata": {
        "colab": {
          "base_uri": "https://localhost:8080/"
        },
        "id": "_g5Z_xtxBh_Y",
        "outputId": "d41994a6-4699-46b0-b7cc-930f08aae2bb"
      },
      "outputs": [
        {
          "output_type": "stream",
          "name": "stdout",
          "text": [
            "Collecting PyPDF2\n",
            "  Downloading pypdf2-3.0.1-py3-none-any.whl (232 kB)\n",
            "\u001b[2K     \u001b[90m━━━━━━━━━━━━━━━━━━━━━━━━━━━━━━━━━━━━━━━━\u001b[0m \u001b[32m232.6/232.6 kB\u001b[0m \u001b[31m3.8 MB/s\u001b[0m eta \u001b[36m0:00:00\u001b[0m\n",
            "\u001b[?25hInstalling collected packages: PyPDF2\n",
            "Successfully installed PyPDF2-3.0.1\n"
          ]
        }
      ],
      "source": [
        "! pip install PyPDF2"
      ]
    },
    {
      "cell_type": "markdown",
      "metadata": {
        "id": "niQKrsHLBh_Z"
      },
      "source": [
        "### Import the library"
      ]
    },
    {
      "cell_type": "code",
      "execution_count": 19,
      "metadata": {
        "id": "cQhI5XNhBh_a"
      },
      "outputs": [],
      "source": [
        "from PyPDF2 import PdfReader"
      ]
    },
    {
      "cell_type": "markdown",
      "metadata": {
        "id": "FNsq71XnBh_a"
      },
      "source": [
        "### Extract the text"
      ]
    },
    {
      "cell_type": "code",
      "execution_count": 24,
      "metadata": {
        "id": "IEdB9rAqBh_b"
      },
      "outputs": [],
      "source": [
        "def extract_text_from_pdf(pdf_path):\n",
        "    pdf_reader = PdfReader(\"peterrabbit.pdf\")\n",
        "    text = \"\"\n",
        "    for page in pdf_reader.pages:\n",
        "        text += page.extract_text() + \"\\n\"\n",
        "    return text"
      ]
    },
    {
      "cell_type": "markdown",
      "metadata": {
        "id": "u0wqTVQ4Bh_b"
      },
      "source": [
        "### Print the extracted text"
      ]
    },
    {
      "cell_type": "code",
      "execution_count": 25,
      "metadata": {
        "colab": {
          "base_uri": "https://localhost:8080/"
        },
        "id": "6WZRm2UKBh_b",
        "outputId": "2e70e09a-8ff3-465d-cde9-c00c74460f28"
      },
      "outputs": [
        {
          "output_type": "stream",
          "name": "stdout",
          "text": [
            "ONCE upon a time there were four little Rabbits, and their names were — Flopsy, Mopsy, Cotton -tail, and \n",
            "Peter.  \n",
            "They lived with their Mother in a sand -bank, underneath the root of a very big fir tree.  \n",
            "\"NOW, my dears,\" said old Mrs. Rabbit one morning, \"you may go into the fields or down the lane, but \n",
            "don't go into Mr. McGregor's garden: your Father had an accident there; he was put in a pie by Mrs. \n",
            "McGregor.\"  \n",
            "\"NOW run along, and don't get into mischief. I am going out.\"  \n",
            "THEN old Mrs. Rabbit took a basket and her umbrella, to the baker's. She bought a loaf of brown bread \n",
            "and five currant buns.  \n",
            "FLOPSY , Mopsy, and Cottontail, who were good little bunnies, went down the lane to gather blackberries;  \n",
            "BUT Peter, who was very naughty, ran straight away to Mr. McGregor's garden and squeezed under the \n",
            "gate!  \n",
            "Peter Rabbit Eating Carrots  \n",
            "FIRST he ate some lettuces and some French beans; and then he ate some radishes;  \n",
            "AND then, feeling rather sick, he went to look for some parsley.  \n",
            "BUT round the end of a cucumber frame, whom should he meet but Mr. McGregor!  \n",
            "MR. McGREGOR was on his hands and knees planting out young cabbages, but he jumped up and ran \n",
            "after Peter, waving a rake and calling out, \"Stop thief!\"  \n",
            "PETER was most dreadfully frightened; he rushed all over the garden, for he had forgotten the way back \n",
            "to the gate.  \n",
            "He lost one of his shoes among the cabbages, and the other shoe amongst the potatoes.  \n",
            "AFTER losing them, he ran on four legs and went faster, so that I think he might have got away altogether \n",
            "if he had not unfortunately run into a gooseberry net, and got caught by the large buttons on his jacket. \n",
            "It was a blue jacket with brass buttons, qui te new.  \n",
            "Peter Rabbit stuck in the gooseberry net  \n",
            "PETER gave himself up for lost, and shed big tears; but his sobs were overheard by some friendly \n",
            "sparrows, who flew to him in great excitement, and implored him to exert himself.  \n",
            "MR. McGREGOR came up with a sieve, which he intended to pop upon the top of Peter; but Peter \n",
            "wriggled out just in time, leaving his jacket behind him.  \n",
            "AND rushed into the toolshed, and jumped into a can. It would have been a beautiful thing to hide in, if \n",
            "it had not had so much water in it.  \n",
            "MR. McGREGOR was quite sure that Peter was somewhere in the toolshed, perhaps hidden underneath \n",
            "a flower -pot. He began to turn them over carefully, looking under each.  \n",
            "Presently Peter sneezed — \"Kertyschoo!\" Mr. McGregor was after him in no time,  \n",
            "AND tried to put his foot upon Peter, who jumped out of a window, upsetting three plants. The window \n",
            "was too small for Mr. McGregor, and he was tired of running after Peter. He went back to his work.  \n",
            "PETER sat down to rest; he was out of breath and trembling with fright, and he had not the least idea \n",
            "which way to go. Also he was very damp with sitting in that can.  \n",
            "After a time he began to wander about, going lippity — lippity —not very fast, and looking all around.  \n",
            "HE found a door in a wall; but it was locked, and there was no room for a fat little rabbit to squeeze \n",
            "underneath.  \n",
            "An old mouse was running in and out over the stone doorstep, carrying peas and beans to her family in \n",
            "the wood. Peter asked her the way to the gate, but she had such a large pea in her mouth that she could \n",
            "not answer. She only shook her head at him. Peter began to cry.  \n",
            "Peter watches from the wheelbarrow  \n",
            "THEN he tried to find his way straight across the garden, but he became more and more puzzled. \n",
            "Presently, he came to a pond where Mr. McGregor filled his water -cans. A white cat was staring at some \n",
            "gold -fish; she sat very, very still, but now and then the tip of her tail twitched as if it were alive. Peter \n",
            "thought it best to go away without speaking to her; he had heard about cats from his cousin, little \n",
            "Benjamin Bunny.  \n",
            "HE went back towards the tool -shed, but suddenly, quite close to him, he heard the noise of a hoe —scr-\n",
            "r-ritch, scratch, scratch, scritch. Peter scuttered underneath the bushes. But presently, as nothing \n",
            "happened, he came out, and climbed upon a wheelbarrow , and peeped over. The first thing he saw was \n",
            "Mr. McGregor hoeing onions. His back was turned towards Peter, and beyond him was the gate!  \n",
            "PETER got down very quietly off the wheelbarrow, and started running as fast as he could go, along a \n",
            "straight walk behind some black -currant bushes.  \n",
            "Mr. McGregor caught sight of him at the corner, but Peter did not care. He slipped underneath the gate, \n",
            "and was safe at last in the wood outside the garden.  \n",
            "MR. McGREGOR hung up the little jacket and the shoes for a scare -crow to frighten the blackbirds.  \n",
            "PETER never stopped running or looked behind him till he got home to the big fir -tree.  \n",
            "He was so tired that he flopped down upon the nice soft sand on the floor of the rabbit -hole, and shut \n",
            "his eyes. His mother was busy cooking; she wondered what he had done with his clothes. It was the \n",
            "second little  jacket and pair of shoes that Peter had lost in a fortnight!  \n",
            "I AM sorry to say that Peter was not very well during the evening.  \n",
            "His mother put him to bed, and made some camomile tea; and she gave a dose of it to Peter!  \n",
            "\"One table -spoonful to be taken at bed -time.\"  \n",
            "BUT Flopsy, Mopsy, and Cottontail had bread and milk and blackberries, for supper.  \n",
            "\n"
          ]
        }
      ],
      "source": [
        "pdf_path = \"peterrabbit.pdf\"\n",
        "extracted_text = extract_text_from_pdf(pdf_path)\n",
        "print(extracted_text)"
      ]
    },
    {
      "cell_type": "markdown",
      "metadata": {
        "id": "TtIOsX-cBh_b"
      },
      "source": [
        "## 2. Convert the Text into Speech\n",
        "- Use **pyttsx3** OR **gTTS**"
      ]
    },
    {
      "cell_type": "markdown",
      "metadata": {
        "id": "bDMORX6fBh_c"
      },
      "source": [
        "### Install the library"
      ]
    },
    {
      "cell_type": "code",
      "execution_count": 30,
      "metadata": {
        "colab": {
          "base_uri": "https://localhost:8080/"
        },
        "id": "Xdw1kJ4mBh_c",
        "outputId": "8d74ffcf-1f97-497b-81d8-4c4abb29d562"
      },
      "outputs": [
        {
          "output_type": "stream",
          "name": "stdout",
          "text": [
            "Requirement already satisfied: gtts in /usr/local/lib/python3.10/dist-packages (2.4.0)\n",
            "Requirement already satisfied: requests<3,>=2.27 in /usr/local/lib/python3.10/dist-packages (from gtts) (2.31.0)\n",
            "Requirement already satisfied: click<8.2,>=7.1 in /usr/local/lib/python3.10/dist-packages (from gtts) (8.1.7)\n",
            "Requirement already satisfied: charset-normalizer<4,>=2 in /usr/local/lib/python3.10/dist-packages (from requests<3,>=2.27->gtts) (3.3.2)\n",
            "Requirement already satisfied: idna<4,>=2.5 in /usr/local/lib/python3.10/dist-packages (from requests<3,>=2.27->gtts) (3.4)\n",
            "Requirement already satisfied: urllib3<3,>=1.21.1 in /usr/local/lib/python3.10/dist-packages (from requests<3,>=2.27->gtts) (2.0.7)\n",
            "Requirement already satisfied: certifi>=2017.4.17 in /usr/local/lib/python3.10/dist-packages (from requests<3,>=2.27->gtts) (2023.7.22)\n"
          ]
        }
      ],
      "source": [
        "!pip install gtts"
      ]
    },
    {
      "cell_type": "markdown",
      "metadata": {
        "id": "md7PWGtZBh_c"
      },
      "source": [
        "### Import the library"
      ]
    },
    {
      "cell_type": "code",
      "execution_count": 31,
      "metadata": {
        "id": "9MLaABLUBh_c"
      },
      "outputs": [],
      "source": [
        "from gtts import gTTS"
      ]
    },
    {
      "cell_type": "markdown",
      "metadata": {
        "id": "JjtKjjLgBh_c"
      },
      "source": [
        "### Initialize a Speaker object"
      ]
    },
    {
      "cell_type": "code",
      "execution_count": 33,
      "metadata": {
        "id": "6yRj9zmtBh_d"
      },
      "outputs": [],
      "source": [
        "language = 'en'\n",
        "speech = gTTS(text = extracted_text, lang = language, slow = False)"
      ]
    },
    {
      "cell_type": "markdown",
      "metadata": {
        "id": "tsaiud40Bh_d"
      },
      "source": [
        "### Convert the text"
      ]
    },
    {
      "cell_type": "code",
      "execution_count": null,
      "metadata": {
        "id": "LGbkiT4PBh_d"
      },
      "outputs": [],
      "source": [
        "# Converted to speech in the previous step"
      ]
    },
    {
      "cell_type": "markdown",
      "metadata": {
        "id": "G8SAg-MkBh_d"
      },
      "source": [
        "### Save the audio"
      ]
    },
    {
      "cell_type": "code",
      "execution_count": 34,
      "metadata": {
        "id": "8bSxc0SQBh_d"
      },
      "outputs": [],
      "source": [
        "speech.save('Pat_AudioBook.wav')"
      ]
    },
    {
      "cell_type": "code",
      "execution_count": null,
      "metadata": {
        "id": "JOTlNe50Bh_d"
      },
      "outputs": [],
      "source": []
    },
    {
      "cell_type": "code",
      "execution_count": null,
      "metadata": {
        "id": "JwIbfTmvBh_d"
      },
      "outputs": [],
      "source": []
    }
  ],
  "metadata": {
    "kernelspec": {
      "display_name": "testing",
      "language": "python",
      "name": "testing"
    },
    "language_info": {
      "codemirror_mode": {
        "name": "ipython",
        "version": 3
      },
      "file_extension": ".py",
      "mimetype": "text/x-python",
      "name": "python",
      "nbconvert_exporter": "python",
      "pygments_lexer": "ipython3",
      "version": "3.8.5"
    },
    "colab": {
      "provenance": []
    }
  },
  "nbformat": 4,
  "nbformat_minor": 0
}