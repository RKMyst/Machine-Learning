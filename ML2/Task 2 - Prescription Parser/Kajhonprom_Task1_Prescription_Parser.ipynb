{
 "cells": [
  {
   "cell_type": "markdown",
   "metadata": {},
   "source": [
    "# Task 1: Create a Prescription Parser using CRF\n",
    "This task tests your ability to build a Doctor Prescription Parser with the help of CRF model\n",
    "\n",
    "Your job is to build a Prescription Parser that takes a prescription (sentence) as an input and find / label the words in that sentence with one of the already pre-defined labels\n",
    "\n",
    "### Problem: SEQUENCE PREDICTION - Label words in a sentence\n",
    "#### Input : Doctor Prescription in the form of a sentence split into tokens\n",
    "- Ex: Take 2 tablets once a day for 10 days\n",
    "\n",
    "#### Output : FHIR Labels\n",
    "- ('Take', 'Method')\n",
    "- ('2', 'Qty') \n",
    "- ('tablets', 'Form')\n",
    "- ('once', 'Frequency')\n",
    "- ('a', 'Period') \n",
    "- ('day', 'PeriodUnit')\n",
    "- ('for', 'FOR')\n",
    "- ('10', 'Duration')\n",
    "- ('days', 'DurationUnit') "
   ]
  },
  {
   "cell_type": "markdown",
   "metadata": {},
   "source": [
    "### Major Steps\n",
    "- Install necessary library\n",
    "- Import the libraries\n",
    "- Create training data with labels\n",
    "    - Split the sentence into tokens\n",
    "    - Compute POS tags\n",
    "    - Create triples\n",
    "- Extract features\n",
    "- Split the data into training and testing set\n",
    "- Create CRF model\n",
    "- Save the CRF model\n",
    "- Load the CRF model\n",
    "- Predict on test data\n",
    "- Accuracy"
   ]
  },
  {
   "cell_type": "markdown",
   "metadata": {},
   "source": [
    "#### Install necesaary library"
   ]
  },
  {
   "cell_type": "code",
   "execution_count": 36,
   "metadata": {},
   "outputs": [
    {
     "name": "stdout",
     "output_type": "stream",
     "text": [
      "Requirement already satisfied: nltk in /Users/maple/anaconda3/envs/T431/lib/python3.11/site-packages (3.8.1)\n",
      "Requirement already satisfied: sklearn-crfsuite in /Users/maple/anaconda3/envs/T431/lib/python3.11/site-packages (0.3.6)\n",
      "Requirement already satisfied: joblib in /Users/maple/anaconda3/envs/T431/lib/python3.11/site-packages (1.2.0)\n",
      "Requirement already satisfied: click in /Users/maple/anaconda3/envs/T431/lib/python3.11/site-packages (from nltk) (8.1.7)\n",
      "Requirement already satisfied: regex>=2021.8.3 in /Users/maple/anaconda3/envs/T431/lib/python3.11/site-packages (from nltk) (2023.10.3)\n",
      "Requirement already satisfied: tqdm in /Users/maple/anaconda3/envs/T431/lib/python3.11/site-packages (from nltk) (4.66.1)\n",
      "Requirement already satisfied: python-crfsuite>=0.8.3 in /Users/maple/anaconda3/envs/T431/lib/python3.11/site-packages (from sklearn-crfsuite) (0.9.9)\n",
      "Requirement already satisfied: six in /Users/maple/anaconda3/envs/T431/lib/python3.11/site-packages (from sklearn-crfsuite) (1.16.0)\n",
      "Requirement already satisfied: tabulate in /Users/maple/anaconda3/envs/T431/lib/python3.11/site-packages (from sklearn-crfsuite) (0.9.0)\n",
      "Note: you may need to restart the kernel to use updated packages.\n"
     ]
    }
   ],
   "source": [
    "pip install nltk sklearn-crfsuite joblib\n"
   ]
  },
  {
   "cell_type": "markdown",
   "metadata": {},
   "source": [
    "#### Import the necessary libraries"
   ]
  },
  {
   "cell_type": "code",
   "execution_count": 37,
   "metadata": {},
   "outputs": [],
   "source": [
    "import nltk\n",
    "import sklearn_crfsuite\n",
    "from sklearn.model_selection import train_test_split\n",
    "from sklearn.metrics import classification_report\n",
    "\n"
   ]
  },
  {
   "cell_type": "markdown",
   "metadata": {},
   "source": [
    "### Input data (GIVEN)\n",
    "#### Creating the inputs to the ML model in the following form:\n",
    "- sigs --> ['take 3 tabs for 10 days']       INPUT SIG\n",
    "- input_sigs --> [['take', '3', 'tabs', 'for', '10', 'days']]      TOKENS\n",
    "- output_labels --> [['Method','Qty', 'Form', 'FOR', 'Duration', 'DurationUnit']]       LABELS"
   ]
  },
  {
   "cell_type": "code",
   "execution_count": 3,
   "metadata": {},
   "outputs": [],
   "source": [
    "sigs = [\"for 5 to 6 days\", \"inject 2 units\", \"x 2 weeks\", \"x 3 days\", \"every day\", \"every 2 weeks\", \"every 3 days\", \"every 1 to 2 months\", \"every 2 to 6 weeks\", \"every 4 to 6 days\", \"take two to four tabs\", \"take 2 to 4 tabs\", \"take 3 tabs orally bid for 10 days at bedtime\", \"swallow three capsules tid orally\", \"take 2 capsules po every 6 hours\", \"take 2 tabs po for 10 days\", \"take 100 caps by mouth tid for 10 weeks\", \"take 2 tabs after an hour\", \"2 tabs every 4-6 hours\", \"every 4 to 6 hours\", \"q46h\", \"q4-6h\", \"2 hours before breakfast\", \"before 30 mins at bedtime\", \"30 mins before bed\", \"and 100 tabs twice a month\", \"100 tabs twice a month\", \"100 tabs once a month\", \"100 tabs thrice a month\", \"3 tabs daily for 3 days then 1 tab per day at bed\", \"30 tabs 10 days tid\", \"take 30 tabs for 10 days three times a day\", \"qid q6h\", \"bid\", \"qid\", \"30 tabs before dinner and bedtime\", \"30 tabs before dinner & bedtime\", \"take 3 tabs at bedtime\", \"30 tabs thrice daily for 10 days \", \"30 tabs for 10 days three times a day\", \"Take 2 tablets a day\", \"qid for 10 days\", \"every day\", \"take 2 caps at bedtime\", \"apply 3 drops before bedtime\", \"take three capsules daily\", \"swallow 3 pills once a day\", \"swallow three pills thrice a day\", \"apply daily\", \"apply three drops before bedtime\", \"every 6 hours\", \"before food\", \"after food\", \"for 20 days\", \"for twenty days\", \"with meals\"]\n",
    "input_sigs = [['for', '5', 'to', '6', 'days'], ['inject', '2', 'units'], ['x', '2', 'weeks'], ['x', '3', 'days'], ['every', 'day'], ['every', '2', 'weeks'], ['every', '3', 'days'], ['every', '1', 'to', '2', 'months'], ['every', '2', 'to', '6', 'weeks'], ['every', '4', 'to', '6', 'days'], ['take', 'two', 'to', 'four', 'tabs'], ['take', '2', 'to', '4', 'tabs'], ['take', '3', 'tabs', 'orally', 'bid', 'for', '10', 'days', 'at', 'bedtime'], ['swallow', 'three', 'capsules', 'tid', 'orally'], ['take', '2', 'capsules', 'po', 'every', '6', 'hours'], ['take', '2', 'tabs', 'po', 'for', '10', 'days'], ['take', '100', 'caps', 'by', 'mouth', 'tid', 'for', '10', 'weeks'], ['take', '2', 'tabs', 'after', 'an', 'hour'], ['2', 'tabs', 'every', '4-6', 'hours'], ['every', '4', 'to', '6', 'hours'], ['q46h'], ['q4-6h'], ['2', 'hours', 'before', 'breakfast'], ['before', '30', 'mins', 'at', 'bedtime'], ['30', 'mins', 'before', 'bed'], ['and', '100', 'tabs', 'twice', 'a', 'month'], ['100', 'tabs', 'twice', 'a', 'month'], ['100', 'tabs', 'once', 'a', 'month'], ['100', 'tabs', 'thrice', 'a', 'month'], ['3', 'tabs', 'daily', 'for', '3', 'days', 'then', '1', 'tab', 'per', 'day', 'at', 'bed'], ['30', 'tabs', '10', 'days', 'tid'], ['take', '30', 'tabs', 'for', '10', 'days', 'three', 'times', 'a', 'day'], ['qid', 'q6h'], ['bid'], ['qid'], ['30', 'tabs', 'before', 'dinner', 'and', 'bedtime'], ['30', 'tabs', 'before', 'dinner', '&', 'bedtime'], ['take', '3', 'tabs', 'at', 'bedtime'], ['30', 'tabs', 'thrice', 'daily', 'for', '10', 'days'], ['30', 'tabs', 'for', '10', 'days', 'three', 'times', 'a', 'day'], ['take', '2', 'tablets', 'a', 'day'], ['qid', 'for', '10', 'days'], ['every', 'day'], ['take', '2', 'caps', 'at', 'bedtime'], ['apply', '3', 'drops', 'before', 'bedtime'], ['take', 'three', 'capsules', 'daily'], ['swallow', '3', 'pills', 'once', 'a', 'day'], ['swallow', 'three', 'pills', 'thrice', 'a', 'day'], ['apply', 'daily'], ['apply', 'three', 'drops', 'before', 'bedtime'], ['every', '6', 'hours'], ['before', 'food'], ['after', 'food'], ['for', '20', 'days'], ['for', 'twenty', 'days'], ['with', 'meals']]\n",
    "output_labels = [['FOR', 'Duration', 'TO', 'DurationMax', 'DurationUnit'], ['Method', 'Qty', 'Form'], ['FOR', 'Duration', 'DurationUnit'], ['FOR', 'Duration', 'DurationUnit'], ['EVERY', 'Period'], ['EVERY', 'Period', 'PeriodUnit'], ['EVERY', 'Period', 'PeriodUnit'], ['EVERY', 'Period', 'TO', 'PeriodMax', 'PeriodUnit'], ['EVERY', 'Period', 'TO', 'PeriodMax', 'PeriodUnit'], ['EVERY', 'Period', 'TO', 'PeriodMax', 'PeriodUnit'], ['Method', 'Qty', 'TO', 'Qty', 'Form'], ['Method', 'Qty', 'TO', 'Qty', 'Form'], ['Method', 'Qty', 'Form', 'PO', 'BID', 'FOR', 'Duration', 'DurationUnit', 'AT', 'WHEN'], ['Method', 'Qty', 'Form', 'TID', 'PO'], ['Method', 'Qty', 'Form', 'PO', 'EVERY', 'Period', 'PeriodUnit'], ['Method', 'Qty', 'Form', 'PO', 'FOR', 'Duration', 'DurationUnit'], ['Method', 'Qty', 'Form', 'BY', 'PO', 'TID', 'FOR', 'Duration', 'DurationUnit'], ['Method', 'Qty', 'Form', 'AFTER', 'Period', 'PeriodUnit'], ['Qty', 'Form', 'EVERY', 'Period', 'PeriodUnit'], ['EVERY', 'Period', 'TO', 'PeriodMax', 'PeriodUnit'], ['Q46H'], ['Q4-6H'], ['Qty', 'PeriodUnit', 'BEFORE', 'WHEN'], ['BEFORE', 'Qty', 'M', 'AT', 'WHEN'], ['Qty', 'M', 'BEFORE', 'WHEN'], ['AND', 'Qty', 'Form', 'Frequency', 'Period', 'PeriodUnit'], ['Qty', 'Form', 'Frequency', 'Period', 'PeriodUnit'], ['Qty', 'Form', 'Frequency', 'Period', 'PeriodUnit'], ['Qty', 'Form', 'Frequency', 'Period', 'PeriodUnit'], ['Qty', 'Form', 'Frequency', 'FOR', 'Duration', 'DurationUnit', 'THEN', 'Qty', 'Form', 'Frequency', 'PeriodUnit', 'AT', 'WHEN'], ['Qty', 'Form', 'Duration', 'DurationUnit', 'TID'], ['Method', 'Qty', 'Form', 'FOR', 'Duration', 'DurationUnit', 'Qty', 'TIMES', 'Period', 'PeriodUnit'], ['QID', 'Q6H'], ['BID'], ['QID'],['Qty', 'Form', 'BEFORE', 'WHEN', 'AND', 'WHEN'], ['Qty', 'Form', 'BEFORE', 'WHEN', 'AND', 'WHEN'], ['Method', 'Qty', 'Form', 'AT', 'WHEN'], ['Qty', 'Form', 'Frequency', 'DAILY', 'FOR', 'Duration', 'DurationUnit'], ['Qty', 'Form', 'FOR', 'Duration', 'DurationUnit', 'Frequency', 'TIMES', 'Period', 'PeriodUnit'], ['Method', 'Qty', 'Form', 'Period', 'PeriodUnit'], ['QID', 'FOR', 'Duration', 'DurationUnit'], ['EVERY', 'PeriodUnit'], ['Method', 'Qty', 'Form', 'AT', 'WHEN'], ['Method', 'Qty', 'Form', 'BEFORE', 'WHEN'], ['Method', 'Qty', 'Form', 'DAILY'], ['Method', 'Qty', 'Form', 'Frequency', 'Period', 'PeriodUnit'], ['Method', 'Qty', 'Form', 'Frequency', 'Period', 'PeriodUnit'], ['Method', 'DAILY'], ['Method', 'Qty', 'Form', 'BEFORE', 'WHEN'], ['EVERY', 'Period', 'PeriodUnit'], ['BEFORE', 'FOOD'], ['AFTER', 'FOOD'], ['FOR', 'Duration', 'DurationUnit'], ['FOR', 'Duration', 'DurationUnit'], ['WITH', 'FOOD']]"
   ]
  },
  {
   "cell_type": "code",
   "execution_count": 4,
   "metadata": {},
   "outputs": [
    {
     "data": {
      "text/plain": [
       "(56, 56, 56)"
      ]
     },
     "execution_count": 4,
     "metadata": {},
     "output_type": "execute_result"
    }
   ],
   "source": [
    "len(sigs), len(input_sigs) , len(output_labels)"
   ]
  },
  {
   "cell_type": "markdown",
   "metadata": {},
   "source": [
    "### Creating a Tuples Maker method\n",
    "Create the tuples as given below by writing a function **tuples_maker(input_sigs, output_labels)** and returns **output** as given below\n",
    "\n",
    "Input(s): \n",
    "- input_sigs\n",
    "- output_lables\n",
    "\n",
    "Output:\n",
    "\n",
    "[[('for', 'FOR'),\n",
    "  ('5', 'Duration'),\n",
    "  ('to', 'TO'),\n",
    "  ('6', 'DurationMax'),\n",
    "  ('days', 'DurationUnit')], [second sentence], ...]"
   ]
  },
  {
   "cell_type": "code",
   "execution_count": 38,
   "metadata": {},
   "outputs": [],
   "source": [
    "def tuples_maker(input_sigs, output_labels):\n",
    "    result = []\n",
    "\n",
    "    for tokens, labels in zip(input_sigs, output_labels):\n",
    "        sentence_tuples = []\n",
    "        for token, label in zip(tokens, labels):\n",
    "            sentence_tuples.append((token, label))\n",
    "        result.append(sentence_tuples)\n",
    "\n",
    "    return result"
   ]
  },
  {
   "cell_type": "code",
   "execution_count": 39,
   "metadata": {},
   "outputs": [
    {
     "name": "stdout",
     "output_type": "stream",
     "text": [
      "[('for', 'FOR'), ('5', 'Duration'), ('to', 'TO'), ('6', 'DurationMax'), ('days', 'DurationUnit')]\n",
      "[('inject', 'Method'), ('2', 'Qty'), ('units', 'Form')]\n",
      "[('x', 'FOR'), ('2', 'Duration'), ('weeks', 'DurationUnit')]\n",
      "[('x', 'FOR'), ('3', 'Duration'), ('days', 'DurationUnit')]\n",
      "[('every', 'EVERY'), ('day', 'Period')]\n",
      "[('every', 'EVERY'), ('2', 'Period'), ('weeks', 'PeriodUnit')]\n",
      "[('every', 'EVERY'), ('3', 'Period'), ('days', 'PeriodUnit')]\n",
      "[('every', 'EVERY'), ('1', 'Period'), ('to', 'TO'), ('2', 'PeriodMax'), ('months', 'PeriodUnit')]\n",
      "[('every', 'EVERY'), ('2', 'Period'), ('to', 'TO'), ('6', 'PeriodMax'), ('weeks', 'PeriodUnit')]\n",
      "[('before', 'BEFORE'), ('food', 'FOOD')]\n",
      "[('after', 'AFTER'), ('food', 'FOOD')]\n",
      "[('for', 'FOR'), ('20', 'Duration'), ('days', 'DurationUnit')]\n",
      "[('for', 'FOR'), ('twenty', 'Duration'), ('days', 'DurationUnit')]\n",
      "[('with', 'WITH'), ('meals', 'FOOD')]\n"
     ]
    }
   ],
   "source": [
    "# Sample data\n",
    "input_sigs = [\n",
    "    ['for', '5', 'to', '6', 'days'],\n",
    "    ['inject', '2', 'units'],\n",
    "    ['x', '2', 'weeks'],\n",
    "    ['x', '3', 'days'],\n",
    "    ['every', 'day'],\n",
    "    ['every', '2', 'weeks'],\n",
    "    ['every', '3', 'days'],\n",
    "    ['every', '1', 'to', '2', 'months'],\n",
    "    ['every', '2', 'to', '6', 'weeks'],\n",
    "    # ... (add more sentences)\n",
    "    ['before', 'food'],\n",
    "    ['after', 'food'],\n",
    "    ['for', '20', 'days'],\n",
    "    ['for', 'twenty', 'days'],\n",
    "    ['with', 'meals']\n",
    "]\n",
    "\n",
    "output_labels = [\n",
    "    ['FOR', 'Duration', 'TO', 'DurationMax', 'DurationUnit'],\n",
    "    ['Method', 'Qty', 'Form'],\n",
    "    ['FOR', 'Duration', 'DurationUnit'],\n",
    "    ['FOR', 'Duration', 'DurationUnit'],\n",
    "    ['EVERY', 'Period'],\n",
    "    ['EVERY', 'Period', 'PeriodUnit'],\n",
    "    ['EVERY', 'Period', 'PeriodUnit'],\n",
    "    ['EVERY', 'Period', 'TO', 'PeriodMax', 'PeriodUnit'],\n",
    "    ['EVERY', 'Period', 'TO', 'PeriodMax', 'PeriodUnit'],\n",
    "    # ... (add more sentences)\n",
    "    ['BEFORE', 'FOOD'],\n",
    "    ['AFTER', 'FOOD'],\n",
    "    ['FOR', 'Duration', 'DurationUnit'],\n",
    "    ['FOR', 'Duration', 'DurationUnit'],\n",
    "    ['WITH', 'FOOD']\n",
    "]\n",
    "\n",
    "# Call tuples_maker function\n",
    "result = tuples_maker(input_sigs, output_labels)\n",
    "\n",
    "# Print the result\n",
    "for sentence_tuples in result:\n",
    "    print(sentence_tuples)"
   ]
  },
  {
   "cell_type": "markdown",
   "metadata": {},
   "source": [
    "### Creating the triples_maker( ) for feature extraction\n",
    "- input: tuples_maker_output\n",
    "- output: \n",
    "[[('for', 'IN', 'FOR'),\n",
    "  ('5', 'CD', 'Duration'),\n",
    "  ('to', 'TO', 'TO'),\n",
    "  ('6', 'CD', 'DurationMax'),\n",
    "  ('days', 'NNS', 'DurationUnit')], [second sentence], ... ]"
   ]
  },
  {
   "cell_type": "code",
   "execution_count": 42,
   "metadata": {},
   "outputs": [],
   "source": [
    "def triples_maker(whole_data):\n",
    "    \n",
    "    return sample_data\n"
   ]
  },
  {
   "cell_type": "code",
   "execution_count": 43,
   "metadata": {},
   "outputs": [
    {
     "data": {
      "text/plain": [
       "[[('for', 'IN', 'FOR'),\n",
       "  ('5', 'CD', 'Duration'),\n",
       "  ('to', 'TO', 'TO'),\n",
       "  ('6', 'CD', 'DurationMax'),\n",
       "  ('days', 'NNS', 'DurationUnit')]]"
      ]
     },
     "execution_count": 43,
     "metadata": {},
     "output_type": "execute_result"
    }
   ],
   "source": [
    "sample_data = triples_maker(whole_data)\n",
    "sample_data"
   ]
  },
  {
   "cell_type": "markdown",
   "metadata": {},
   "source": [
    "### Creating the features extractor method (GIVEN as a BASELINE)\n",
    "#### The features used are:\n",
    "- SOS, EOS, lowercase, uppercase, title, digit, postag, previous_tag, next_tag\n",
    "#### Feel free to include more features"
   ]
  },
  {
   "cell_type": "code",
   "execution_count": 44,
   "metadata": {},
   "outputs": [],
   "source": [
    "def token_to_features(doc, i):\n",
    "    word = doc[i][0]\n",
    "    postag = doc[i][1]\n",
    "\n",
    "    # Common features for all words\n",
    "    features = [\n",
    "        'bias',\n",
    "        'word.lower=' + word.lower(),\n",
    "        'word[-3:]=' + word[-3:],\n",
    "        'word[-2:]=' + word[-2:],\n",
    "        'word.isupper=%s' % word.isupper(),\n",
    "        'word.istitle=%s' % word.istitle(),\n",
    "        'word.isdigit=%s' % word.isdigit(),\n",
    "        'postag=' + postag\n",
    "    ]\n",
    "\n",
    "    # Features for words that are not\n",
    "    # at the beginning of a document\n",
    "    if i > 0:\n",
    "        word1 = doc[i-1][0]\n",
    "        postag1 = doc[i-1][1]\n",
    "        features.extend([\n",
    "            '-1:word.lower=' + word1.lower(),\n",
    "            '-1:word.istitle=%s' % word1.istitle(),\n",
    "            '-1:word.isupper=%s' % word1.isupper(),\n",
    "            '-1:word.isdigit=%s' % word1.isdigit(),\n",
    "            '-1:postag=' + postag1\n",
    "        ])\n",
    "    else:\n",
    "        # Indicate that it is the 'beginning of a document'\n",
    "        features.append('BOS')\n",
    "\n",
    "    # Features for words that are not\n",
    "    # at the end of a document\n",
    "    if i < len(doc)-1:\n",
    "        word1 = doc[i+1][0]\n",
    "        postag1 = doc[i+1][1]\n",
    "        features.extend([\n",
    "            '+1:word.lower=' + word1.lower(),\n",
    "            '+1:word.istitle=%s' % word1.istitle(),\n",
    "            '+1:word.isupper=%s' % word1.isupper(),\n",
    "            '+1:word.isdigit=%s' % word1.isdigit(),\n",
    "            '+1:postag=' + postag1\n",
    "        ])\n",
    "    else:\n",
    "        # Indicate that it is the 'end of a document'\n",
    "        features.append('EOS')\n",
    "\n",
    "    return features"
   ]
  },
  {
   "cell_type": "markdown",
   "metadata": {},
   "source": [
    "### Running the feature extractor on the training data \n",
    "- Feature extraction\n",
    "- Train-test-split"
   ]
  },
  {
   "cell_type": "code",
   "execution_count": 51,
   "metadata": {},
   "outputs": [
    {
     "name": "stdout",
     "output_type": "stream",
     "text": [
      "Training set size: 4 samples\n",
      "Testing set size: 2 samples\n"
     ]
    }
   ],
   "source": [
    "import nltk\n",
    "from sklearn.model_selection import train_test_split\n",
    "\n",
    "# Define or load your data\n",
    "sentences = [\n",
    "    [('Take', 'Method'), ('2', 'Qty'), ('tablets', 'Form')],\n",
    "    [('Inject', 'Method'), ('1', 'Qty'), ('dose', 'Form')],\n",
    "    # Add more sentences here\n",
    "]\n",
    "\n",
    "\n",
    "# Assuming you have your data in a different format\n",
    "# Let's assume 'sentences' is a list of sentences, where each sentence is a list of tuples (word, label)\n",
    "# Example: sentences = [[('Take', 'Method'), ('2', 'Qty'), ('tablets', 'Form'), ...], ...]\n",
    "\n",
    "# Apply the feature extractor to each sentence in the data\n",
    "features = [token_to_features(sentence, i) for sentence in sentences for i in range(len(sentence))]\n",
    "# 'features' is a list where each element corresponds to the features for a word in the data\n",
    "\n",
    "# Create a list of labels for each word in the data\n",
    "labels = [label for sentence in sentences for _, label in sentence]\n",
    "\n",
    "# Split the data into training and testing sets\n",
    "X_train, X_test, y_train, y_test = train_test_split(features, labels, test_size=0.2, random_state=42)\n",
    "\n",
    "# Print the size of the training and testing sets\n",
    "print(f\"Training set size: {len(X_train)} samples\")\n",
    "print(f\"Testing set size: {len(X_test)} samples\")\n"
   ]
  },
  {
   "cell_type": "markdown",
   "metadata": {},
   "source": [
    "### Training the CRF model with the features extracted using the feature extractor method"
   ]
  },
  {
   "cell_type": "code",
   "execution_count": 52,
   "metadata": {},
   "outputs": [],
   "source": [
    "\n",
    "\n",
    "# Submit training data to the trainer\n",
    "\n",
    "\n",
    "# Set the parameters of the model\n",
    "\n",
    "\n",
    "# Providing a file name as a parameter to the train function, such that\n",
    "# the model will be saved to the file when training is finished\n"
   ]
  },
  {
   "cell_type": "code",
   "execution_count": 54,
   "metadata": {},
   "outputs": [
    {
     "ename": "TypeError",
     "evalue": "CRF.fit() got an unexpected keyword argument 'verbose'",
     "output_type": "error",
     "traceback": [
      "\u001b[0;31m---------------------------------------------------------------------------\u001b[0m",
      "\u001b[0;31mTypeError\u001b[0m                                 Traceback (most recent call last)",
      "\u001b[1;32m/Users/maple/Library/Mobile Documents/com~apple~CloudDocs/Artificial Intelligence/AI GBC/AASD 4004 MACHINE LEARNING II AASD 4004/Assignment/Task 2 - Prescription Parser/Kajhonprom_Task1_Prescription_Parser.ipynb Cell 22\u001b[0m line \u001b[0;36m1\n\u001b[1;32m      <a href='vscode-notebook-cell:/Users/maple/Library/Mobile%20Documents/com~apple~CloudDocs/Artificial%20Intelligence/AI%20GBC/AASD%204004%20MACHINE%20LEARNING%20II%20AASD%204004/Assignment/Task%202%20-%20Prescription%20Parser/Kajhonprom_Task1_Prescription_Parser.ipynb#Y136sZmlsZQ%3D%3D?line=5'>6</a>\u001b[0m crf_model \u001b[39m=\u001b[39m sklearn_crfsuite\u001b[39m.\u001b[39mCRF(\n\u001b[1;32m      <a href='vscode-notebook-cell:/Users/maple/Library/Mobile%20Documents/com~apple~CloudDocs/Artificial%20Intelligence/AI%20GBC/AASD%204004%20MACHINE%20LEARNING%20II%20AASD%204004/Assignment/Task%202%20-%20Prescription%20Parser/Kajhonprom_Task1_Prescription_Parser.ipynb#Y136sZmlsZQ%3D%3D?line=6'>7</a>\u001b[0m     algorithm\u001b[39m=\u001b[39m\u001b[39m'\u001b[39m\u001b[39mlbfgs\u001b[39m\u001b[39m'\u001b[39m,\n\u001b[1;32m      <a href='vscode-notebook-cell:/Users/maple/Library/Mobile%20Documents/com~apple~CloudDocs/Artificial%20Intelligence/AI%20GBC/AASD%204004%20MACHINE%20LEARNING%20II%20AASD%204004/Assignment/Task%202%20-%20Prescription%20Parser/Kajhonprom_Task1_Prescription_Parser.ipynb#Y136sZmlsZQ%3D%3D?line=7'>8</a>\u001b[0m     c1\u001b[39m=\u001b[39m\u001b[39m0.1\u001b[39m,\n\u001b[0;32m   (...)\u001b[0m\n\u001b[1;32m     <a href='vscode-notebook-cell:/Users/maple/Library/Mobile%20Documents/com~apple~CloudDocs/Artificial%20Intelligence/AI%20GBC/AASD%204004%20MACHINE%20LEARNING%20II%20AASD%204004/Assignment/Task%202%20-%20Prescription%20Parser/Kajhonprom_Task1_Prescription_Parser.ipynb#Y136sZmlsZQ%3D%3D?line=11'>12</a>\u001b[0m     verbose\u001b[39m=\u001b[39m\u001b[39mTrue\u001b[39;00m\n\u001b[1;32m     <a href='vscode-notebook-cell:/Users/maple/Library/Mobile%20Documents/com~apple~CloudDocs/Artificial%20Intelligence/AI%20GBC/AASD%204004%20MACHINE%20LEARNING%20II%20AASD%204004/Assignment/Task%202%20-%20Prescription%20Parser/Kajhonprom_Task1_Prescription_Parser.ipynb#Y136sZmlsZQ%3D%3D?line=12'>13</a>\u001b[0m )\n\u001b[1;32m     <a href='vscode-notebook-cell:/Users/maple/Library/Mobile%20Documents/com~apple~CloudDocs/Artificial%20Intelligence/AI%20GBC/AASD%204004%20MACHINE%20LEARNING%20II%20AASD%204004/Assignment/Task%202%20-%20Prescription%20Parser/Kajhonprom_Task1_Prescription_Parser.ipynb#Y136sZmlsZQ%3D%3D?line=14'>15</a>\u001b[0m \u001b[39m# Train the model with verbosity and logfile\u001b[39;00m\n\u001b[0;32m---> <a href='vscode-notebook-cell:/Users/maple/Library/Mobile%20Documents/com~apple~CloudDocs/Artificial%20Intelligence/AI%20GBC/AASD%204004%20MACHINE%20LEARNING%20II%20AASD%204004/Assignment/Task%202%20-%20Prescription%20Parser/Kajhonprom_Task1_Prescription_Parser.ipynb#Y136sZmlsZQ%3D%3D?line=15'>16</a>\u001b[0m crf_model\u001b[39m.\u001b[39;49mfit(X_train, y_train, verbose\u001b[39m=\u001b[39;49m\u001b[39mTrue\u001b[39;49;00m, logfile\u001b[39m=\u001b[39;49m\u001b[39m'\u001b[39;49m\u001b[39mcrf_training.log\u001b[39;49m\u001b[39m'\u001b[39;49m)\n\u001b[1;32m     <a href='vscode-notebook-cell:/Users/maple/Library/Mobile%20Documents/com~apple~CloudDocs/Artificial%20Intelligence/AI%20GBC/AASD%204004%20MACHINE%20LEARNING%20II%20AASD%204004/Assignment/Task%202%20-%20Prescription%20Parser/Kajhonprom_Task1_Prescription_Parser.ipynb#Y136sZmlsZQ%3D%3D?line=17'>18</a>\u001b[0m \u001b[39m# Save the trained model to a file\u001b[39;00m\n\u001b[1;32m     <a href='vscode-notebook-cell:/Users/maple/Library/Mobile%20Documents/com~apple~CloudDocs/Artificial%20Intelligence/AI%20GBC/AASD%204004%20MACHINE%20LEARNING%20II%20AASD%204004/Assignment/Task%202%20-%20Prescription%20Parser/Kajhonprom_Task1_Prescription_Parser.ipynb#Y136sZmlsZQ%3D%3D?line=18'>19</a>\u001b[0m model_filename \u001b[39m=\u001b[39m \u001b[39m'\u001b[39m\u001b[39mcrf_model.sav\u001b[39m\u001b[39m'\u001b[39m\n",
      "\u001b[0;31mTypeError\u001b[0m: CRF.fit() got an unexpected keyword argument 'verbose'"
     ]
    }
   ],
   "source": [
    "import sklearn_crfsuite\n",
    "\n",
    "# Assuming you have X_train and y_train defined\n",
    "\n",
    "# Create and configure the CRF model\n",
    "crf_model = sklearn_crfsuite.CRF(\n",
    "    algorithm='lbfgs',\n",
    "    c1=0.1,\n",
    "    c2=0.01,\n",
    "    max_iterations=1000,\n",
    "    all_possible_transitions=True,  # This is necessary for feature.possible_transitions to work\n",
    "    verbose=True\n",
    ")\n",
    "\n",
    "# Train the model with verbosity and logfile\n",
    "crf_model.fit(X_train, y_train, verbose=True, logfile='crf_training.log')\n",
    "\n",
    "# Save the trained model to a file\n",
    "model_filename = 'crf_model.sav'\n",
    "with open(model_filename, 'wb') as model_file:\n",
    "    pickle.dump(crf_model, model_file)\n"
   ]
  },
  {
   "cell_type": "markdown",
   "metadata": {},
   "source": [
    "### Predicting the test data with the built model"
   ]
  },
  {
   "cell_type": "code",
   "execution_count": null,
   "metadata": {
    "scrolled": true
   },
   "outputs": [],
   "source": []
  },
  {
   "cell_type": "code",
   "execution_count": null,
   "metadata": {},
   "outputs": [],
   "source": []
  },
  {
   "cell_type": "code",
   "execution_count": null,
   "metadata": {},
   "outputs": [],
   "source": []
  },
  {
   "cell_type": "code",
   "execution_count": null,
   "metadata": {},
   "outputs": [],
   "source": []
  },
  {
   "cell_type": "code",
   "execution_count": 14,
   "metadata": {},
   "outputs": [],
   "source": []
  },
  {
   "cell_type": "code",
   "execution_count": null,
   "metadata": {},
   "outputs": [],
   "source": []
  },
  {
   "cell_type": "markdown",
   "metadata": {},
   "source": [
    "### Putting all the prediction logic inside a predict method"
   ]
  },
  {
   "cell_type": "code",
   "execution_count": 55,
   "metadata": {},
   "outputs": [],
   "source": [
    "def predict(sig):\n",
    "    \"\"\"\n",
    "    predict(sig)\n",
    "    Purpose: Labels the given sig into corresponding labels\n",
    "    @param sig. A Sentence  # A medical prescription sig written by a doctor\n",
    "    @return     A list      # A list with predicted labels (first level of labeling)\n",
    "    >>> predict('2 tabs every 4 hours')\n",
    "    [['Qty', 'Form', 'EVERY', 'Period', 'PeriodUnit']]\n",
    "    >>> predict('2 tabs with food')\n",
    "    [['Qty', 'Form', 'WITH', 'FOOD']]\n",
    "    >>> predict('2 tabs qid x 30 days')\n",
    "    [['Qty', 'Form', 'QID', 'FOR', 'Duration', 'DurationUnit']]\n",
    "    \"\"\"\n",
    "    \n",
    "    return predictions"
   ]
  },
  {
   "cell_type": "markdown",
   "metadata": {},
   "source": [
    "### Sample predictions"
   ]
  },
  {
   "cell_type": "code",
   "execution_count": 56,
   "metadata": {},
   "outputs": [
    {
     "ename": "NameError",
     "evalue": "name 'predictions' is not defined",
     "output_type": "error",
     "traceback": [
      "\u001b[0;31m---------------------------------------------------------------------------\u001b[0m",
      "\u001b[0;31mNameError\u001b[0m                                 Traceback (most recent call last)",
      "\u001b[1;32m/Users/maple/Library/Mobile Documents/com~apple~CloudDocs/Artificial Intelligence/AI GBC/AASD 4004 MACHINE LEARNING II AASD 4004/Assignment/Task 2 - Prescription Parser/Kajhonprom_Task1_Prescription_Parser.ipynb Cell 33\u001b[0m line \u001b[0;36m1\n\u001b[0;32m----> <a href='vscode-notebook-cell:/Users/maple/Library/Mobile%20Documents/com~apple~CloudDocs/Artificial%20Intelligence/AI%20GBC/AASD%204004%20MACHINE%20LEARNING%20II%20AASD%204004/Assignment/Task%202%20-%20Prescription%20Parser/Kajhonprom_Task1_Prescription_Parser.ipynb#X43sZmlsZQ%3D%3D?line=0'>1</a>\u001b[0m predictions \u001b[39m=\u001b[39m predict(\u001b[39m\"\u001b[39;49m\u001b[39mtake 2 tabs every 6 hours x 10 days\u001b[39;49m\u001b[39m\"\u001b[39;49m)\n",
      "\u001b[1;32m/Users/maple/Library/Mobile Documents/com~apple~CloudDocs/Artificial Intelligence/AI GBC/AASD 4004 MACHINE LEARNING II AASD 4004/Assignment/Task 2 - Prescription Parser/Kajhonprom_Task1_Prescription_Parser.ipynb Cell 33\u001b[0m line \u001b[0;36m1\n\u001b[1;32m      <a href='vscode-notebook-cell:/Users/maple/Library/Mobile%20Documents/com~apple~CloudDocs/Artificial%20Intelligence/AI%20GBC/AASD%204004%20MACHINE%20LEARNING%20II%20AASD%204004/Assignment/Task%202%20-%20Prescription%20Parser/Kajhonprom_Task1_Prescription_Parser.ipynb#X43sZmlsZQ%3D%3D?line=0'>1</a>\u001b[0m \u001b[39mdef\u001b[39;00m \u001b[39mpredict\u001b[39m(sig):\n\u001b[1;32m      <a href='vscode-notebook-cell:/Users/maple/Library/Mobile%20Documents/com~apple~CloudDocs/Artificial%20Intelligence/AI%20GBC/AASD%204004%20MACHINE%20LEARNING%20II%20AASD%204004/Assignment/Task%202%20-%20Prescription%20Parser/Kajhonprom_Task1_Prescription_Parser.ipynb#X43sZmlsZQ%3D%3D?line=1'>2</a>\u001b[0m \u001b[39m    \u001b[39m\u001b[39m\"\"\"\u001b[39;00m\n\u001b[1;32m      <a href='vscode-notebook-cell:/Users/maple/Library/Mobile%20Documents/com~apple~CloudDocs/Artificial%20Intelligence/AI%20GBC/AASD%204004%20MACHINE%20LEARNING%20II%20AASD%204004/Assignment/Task%202%20-%20Prescription%20Parser/Kajhonprom_Task1_Prescription_Parser.ipynb#X43sZmlsZQ%3D%3D?line=2'>3</a>\u001b[0m \u001b[39m    predict(sig)\u001b[39;00m\n\u001b[1;32m      <a href='vscode-notebook-cell:/Users/maple/Library/Mobile%20Documents/com~apple~CloudDocs/Artificial%20Intelligence/AI%20GBC/AASD%204004%20MACHINE%20LEARNING%20II%20AASD%204004/Assignment/Task%202%20-%20Prescription%20Parser/Kajhonprom_Task1_Prescription_Parser.ipynb#X43sZmlsZQ%3D%3D?line=3'>4</a>\u001b[0m \u001b[39m    Purpose: Labels the given sig into corresponding labels\u001b[39;00m\n\u001b[0;32m   (...)\u001b[0m\n\u001b[1;32m     <a href='vscode-notebook-cell:/Users/maple/Library/Mobile%20Documents/com~apple~CloudDocs/Artificial%20Intelligence/AI%20GBC/AASD%204004%20MACHINE%20LEARNING%20II%20AASD%204004/Assignment/Task%202%20-%20Prescription%20Parser/Kajhonprom_Task1_Prescription_Parser.ipynb#X43sZmlsZQ%3D%3D?line=11'>12</a>\u001b[0m \u001b[39m    [['Qty', 'Form', 'QID', 'FOR', 'Duration', 'DurationUnit']]\u001b[39;00m\n\u001b[1;32m     <a href='vscode-notebook-cell:/Users/maple/Library/Mobile%20Documents/com~apple~CloudDocs/Artificial%20Intelligence/AI%20GBC/AASD%204004%20MACHINE%20LEARNING%20II%20AASD%204004/Assignment/Task%202%20-%20Prescription%20Parser/Kajhonprom_Task1_Prescription_Parser.ipynb#X43sZmlsZQ%3D%3D?line=12'>13</a>\u001b[0m \u001b[39m    \"\"\"\u001b[39;00m\n\u001b[0;32m---> <a href='vscode-notebook-cell:/Users/maple/Library/Mobile%20Documents/com~apple~CloudDocs/Artificial%20Intelligence/AI%20GBC/AASD%204004%20MACHINE%20LEARNING%20II%20AASD%204004/Assignment/Task%202%20-%20Prescription%20Parser/Kajhonprom_Task1_Prescription_Parser.ipynb#X43sZmlsZQ%3D%3D?line=14'>15</a>\u001b[0m     \u001b[39mreturn\u001b[39;00m predictions\n",
      "\u001b[0;31mNameError\u001b[0m: name 'predictions' is not defined"
     ]
    }
   ],
   "source": [
    "predictions = predict(\"take 2 tabs every 6 hours x 10 days\")"
   ]
  },
  {
   "cell_type": "code",
   "execution_count": 18,
   "metadata": {},
   "outputs": [
    {
     "name": "stdout",
     "output_type": "stream",
     "text": [
      "2 capsu for 10 day at bed\n",
      "[['Qty', 'Form', 'FOR', 'Duration', 'PeriodUnit', 'AT', 'WHEN']]\n"
     ]
    }
   ],
   "source": [
    "predictions = predict(\"2 capsu for 10 day at bed\")"
   ]
  },
  {
   "cell_type": "code",
   "execution_count": 19,
   "metadata": {},
   "outputs": [
    {
     "name": "stdout",
     "output_type": "stream",
     "text": [
      "2 capsu for 10 days at bed\n",
      "[['Qty', 'Form', 'FOR', 'Duration', 'DurationUnit', 'AT', 'WHEN']]\n"
     ]
    }
   ],
   "source": [
    "predictions = predict(\"2 capsu for 10 days at bed\")"
   ]
  },
  {
   "cell_type": "code",
   "execution_count": 20,
   "metadata": {},
   "outputs": [
    {
     "name": "stdout",
     "output_type": "stream",
     "text": [
      "5 days 2 tabs at bed\n",
      "[['Duration', 'DurationUnit', 'Qty', 'Form', 'AT', 'WHEN']]\n"
     ]
    }
   ],
   "source": [
    "predictions = predict(\"5 days 2 tabs at bed\")"
   ]
  },
  {
   "cell_type": "code",
   "execution_count": 21,
   "metadata": {},
   "outputs": [
    {
     "name": "stdout",
     "output_type": "stream",
     "text": [
      "3 tabs qid x 10 weeks\n",
      "[['Qty', 'Form', 'QID', 'FOR', 'Duration', 'DurationUnit']]\n"
     ]
    }
   ],
   "source": [
    "predictions = predict(\"3 tabs qid x 10 weeks\")"
   ]
  },
  {
   "cell_type": "code",
   "execution_count": 22,
   "metadata": {},
   "outputs": [
    {
     "name": "stdout",
     "output_type": "stream",
     "text": [
      "x 30 days\n",
      "[['FOR', 'Duration', 'DurationUnit']]\n"
     ]
    }
   ],
   "source": [
    "predictions = predict(\"x 30 days\")"
   ]
  },
  {
   "cell_type": "code",
   "execution_count": 23,
   "metadata": {},
   "outputs": [
    {
     "name": "stdout",
     "output_type": "stream",
     "text": [
      "x 20 months\n",
      "[['FOR', 'Duration', 'DurationUnit']]\n"
     ]
    }
   ],
   "source": [
    "predictions = predict(\"x 20 months\")"
   ]
  },
  {
   "cell_type": "code",
   "execution_count": 24,
   "metadata": {},
   "outputs": [
    {
     "name": "stdout",
     "output_type": "stream",
     "text": [
      "take 2 tabs po tid for 10 days\n",
      "[['Method', 'Qty', 'Form', 'PO', 'TID', 'FOR', 'Duration', 'DurationUnit']]\n"
     ]
    }
   ],
   "source": [
    "predictions = predict(\"take 2 tabs po tid for 10 days\")"
   ]
  },
  {
   "cell_type": "code",
   "execution_count": 25,
   "metadata": {},
   "outputs": [
    {
     "name": "stdout",
     "output_type": "stream",
     "text": [
      "take 2 capsules po every 6 hours\n",
      "[['Method', 'Qty', 'Form', 'PO', 'EVERY', 'Period', 'PeriodUnit']]\n"
     ]
    }
   ],
   "source": [
    "predictions = predict(\"take 2 capsules po every 6 hours\")"
   ]
  },
  {
   "cell_type": "code",
   "execution_count": 26,
   "metadata": {},
   "outputs": [
    {
     "name": "stdout",
     "output_type": "stream",
     "text": [
      "inject 2 units pu tid\n",
      "[['Method', 'Qty', 'Form', 'Frequency', 'TID']]\n"
     ]
    }
   ],
   "source": [
    "predictions = predict(\"inject 2 units pu tid\")"
   ]
  },
  {
   "cell_type": "code",
   "execution_count": 27,
   "metadata": {},
   "outputs": [
    {
     "name": "stdout",
     "output_type": "stream",
     "text": [
      "swallow 3 caps tid by mouth\n",
      "[['Method', 'Qty', 'Form', 'TID', 'BY', 'PO']]\n"
     ]
    }
   ],
   "source": [
    "predictions = predict(\"swallow 3 caps tid by mouth\")"
   ]
  },
  {
   "cell_type": "code",
   "execution_count": 28,
   "metadata": {},
   "outputs": [
    {
     "name": "stdout",
     "output_type": "stream",
     "text": [
      "inject 3 units orally\n",
      "[['Method', 'Qty', 'Form', 'PO']]\n"
     ]
    }
   ],
   "source": [
    "predictions = predict(\"inject 3 units orally\")"
   ]
  },
  {
   "cell_type": "code",
   "execution_count": 29,
   "metadata": {},
   "outputs": [
    {
     "name": "stdout",
     "output_type": "stream",
     "text": [
      "orally take 3 tabs tid\n",
      "[['PO', 'Method', 'Qty', 'Form', 'TID']]\n"
     ]
    }
   ],
   "source": [
    "predictions = predict(\"orally take 3 tabs tid\")"
   ]
  },
  {
   "cell_type": "code",
   "execution_count": 30,
   "metadata": {},
   "outputs": [
    {
     "name": "stdout",
     "output_type": "stream",
     "text": [
      "by mouth take three caps\n",
      "[['BY', 'PO', 'Method', 'Qty', 'Form']]\n"
     ]
    }
   ],
   "source": [
    "predictions = predict(\"by mouth take three caps\")"
   ]
  },
  {
   "cell_type": "code",
   "execution_count": 31,
   "metadata": {},
   "outputs": [
    {
     "name": "stdout",
     "output_type": "stream",
     "text": [
      "take 3 tabs orally three times a day for 10 days at bedtime\n",
      "[['Method', 'Qty', 'Form', 'PO', 'Qty', 'TIMES', 'Period', 'PeriodUnit', 'FOR', 'Duration', 'DurationUnit', 'AT', 'WHEN']]\n"
     ]
    }
   ],
   "source": [
    "predictions = predict(\"take 3 tabs orally three times a day for 10 days at bedtime\")"
   ]
  },
  {
   "cell_type": "code",
   "execution_count": 32,
   "metadata": {},
   "outputs": [
    {
     "name": "stdout",
     "output_type": "stream",
     "text": [
      "take 3 tabs orally bid for 10 days at bedtime\n",
      "[['Method', 'Qty', 'Form', 'PO', 'BID', 'FOR', 'Duration', 'DurationUnit', 'AT', 'WHEN']]\n"
     ]
    }
   ],
   "source": [
    "predictions = predict(\"take 3 tabs orally bid for 10 days at bedtime\")"
   ]
  },
  {
   "cell_type": "code",
   "execution_count": 33,
   "metadata": {},
   "outputs": [
    {
     "name": "stdout",
     "output_type": "stream",
     "text": [
      "take 3 tabs bid orally at bed\n",
      "[['Method', 'Qty', 'Form', 'BID', 'PO', 'AT', 'WHEN']]\n"
     ]
    }
   ],
   "source": [
    "predictions = predict(\"take 3 tabs bid orally at bed\")"
   ]
  },
  {
   "cell_type": "code",
   "execution_count": 34,
   "metadata": {},
   "outputs": [
    {
     "name": "stdout",
     "output_type": "stream",
     "text": [
      "take 10 capsules by mouth qid\n",
      "[['Method', 'Qty', 'Form', 'BY', 'PO', 'QID']]\n"
     ]
    }
   ],
   "source": [
    "predictions = predict(\"take 10 capsules by mouth qid\")"
   ]
  },
  {
   "cell_type": "code",
   "execution_count": 35,
   "metadata": {},
   "outputs": [
    {
     "name": "stdout",
     "output_type": "stream",
     "text": [
      "inject 10 units orally qid x 3 months\n",
      "[['Method', 'Qty', 'Form', 'PO', 'QID', 'FOR', 'Duration', 'DurationUnit']]\n"
     ]
    }
   ],
   "source": [
    "predictions = predict(\"inject 10 units orally qid x 3 months\")"
   ]
  },
  {
   "cell_type": "code",
   "execution_count": 36,
   "metadata": {},
   "outputs": [
    {
     "name": "stdout",
     "output_type": "stream",
     "text": [
      "please take 2 tablets per day for a month in the morning and evening each day\n",
      "[['Method', 'Method', 'Qty', 'Form', 'Frequency', 'PeriodUnit', 'FOR', 'Period', 'PeriodUnit', 'EVERY', 'Period', 'PeriodUnit', 'AND', 'EVERY', 'Period', 'PeriodUnit']]\n"
     ]
    }
   ],
   "source": [
    "prediction = predict(\"please take 2 tablets per day for a month in the morning and evening each day\")"
   ]
  },
  {
   "cell_type": "code",
   "execution_count": 37,
   "metadata": {},
   "outputs": [
    {
     "name": "stdout",
     "output_type": "stream",
     "text": [
      "Amoxcicillin QID 30 tablets\n",
      "[['WHEN', 'QID', 'Qty', 'Form']]\n"
     ]
    }
   ],
   "source": [
    "prediction = predict(\"Amoxcicillin QID 30 tablets\")"
   ]
  },
  {
   "cell_type": "code",
   "execution_count": 38,
   "metadata": {},
   "outputs": [
    {
     "name": "stdout",
     "output_type": "stream",
     "text": [
      "take 3 tabs TID for 90 days with food\n",
      "[['Method', 'Qty', 'Form', 'TID', 'FOR', 'Duration', 'DurationUnit', 'WITH', 'FOOD']]\n"
     ]
    }
   ],
   "source": [
    "prediction = predict(\"take 3 tabs TID for 90 days with food\")"
   ]
  },
  {
   "cell_type": "code",
   "execution_count": 39,
   "metadata": {},
   "outputs": [
    {
     "name": "stdout",
     "output_type": "stream",
     "text": [
      "with food take 3 tablets per day for 90 days\n",
      "[['WITH', 'FOOD', 'Method', 'Qty', 'Form', 'Frequency', 'PeriodUnit', 'FOR', 'Duration', 'DurationUnit']]\n"
     ]
    }
   ],
   "source": [
    "prediction = predict(\"with food take 3 tablets per day for 90 days\")"
   ]
  },
  {
   "cell_type": "code",
   "execution_count": 40,
   "metadata": {},
   "outputs": [
    {
     "name": "stdout",
     "output_type": "stream",
     "text": [
      "with food take 3 tablets per week for 90 weeks\n",
      "[['WITH', 'FOOD', 'Method', 'Qty', 'Form', 'Frequency', 'PeriodUnit', 'FOR', 'Duration', 'DurationUnit']]\n"
     ]
    }
   ],
   "source": [
    "prediction = predict(\"with food take 3 tablets per week for 90 weeks\")"
   ]
  },
  {
   "cell_type": "code",
   "execution_count": 41,
   "metadata": {},
   "outputs": [
    {
     "name": "stdout",
     "output_type": "stream",
     "text": [
      "take 2-4 tabs\n",
      "[['Method', 'Qty', 'Form']]\n"
     ]
    }
   ],
   "source": [
    "prediction = predict(\"take 2-4 tabs\")"
   ]
  },
  {
   "cell_type": "code",
   "execution_count": 42,
   "metadata": {},
   "outputs": [
    {
     "name": "stdout",
     "output_type": "stream",
     "text": [
      "take 2 to 4 tabs\n",
      "[['Method', 'Qty', 'TO', 'Qty', 'Form']]\n"
     ]
    }
   ],
   "source": [
    "prediction = predict(\"take 2 to 4 tabs\")"
   ]
  },
  {
   "cell_type": "code",
   "execution_count": 43,
   "metadata": {},
   "outputs": [
    {
     "name": "stdout",
     "output_type": "stream",
     "text": [
      "take two to four tabs\n",
      "[['Method', 'Qty', 'TO', 'Qty', 'Form']]\n"
     ]
    }
   ],
   "source": [
    "prediction = predict(\"take two to four tabs\")"
   ]
  },
  {
   "cell_type": "code",
   "execution_count": 44,
   "metadata": {},
   "outputs": [
    {
     "name": "stdout",
     "output_type": "stream",
     "text": [
      "take 2-4 tabs for 8 to 9 days\n",
      "[['Method', 'Qty', 'Form', 'FOR', 'Duration', 'TO', 'PeriodMax', 'PeriodUnit']]\n"
     ]
    }
   ],
   "source": [
    "prediction = predict(\"take 2-4 tabs for 8 to 9 days\")"
   ]
  },
  {
   "cell_type": "code",
   "execution_count": 45,
   "metadata": {},
   "outputs": [
    {
     "name": "stdout",
     "output_type": "stream",
     "text": [
      "take 20 tabs every 6 to 8 days\n",
      "[['Method', 'Qty', 'Form', 'EVERY', 'Period', 'TO', 'PeriodMax', 'PeriodUnit']]\n"
     ]
    }
   ],
   "source": [
    "prediction = predict(\"take 20 tabs every 6 to 8 days\")"
   ]
  },
  {
   "cell_type": "code",
   "execution_count": 46,
   "metadata": {},
   "outputs": [
    {
     "name": "stdout",
     "output_type": "stream",
     "text": [
      "take 2 tabs every 4 to 6 days\n",
      "[['Method', 'Qty', 'Form', 'EVERY', 'Period', 'TO', 'PeriodMax', 'PeriodUnit']]\n"
     ]
    }
   ],
   "source": [
    "prediction = predict(\"take 2 tabs every 4 to 6 days\")"
   ]
  },
  {
   "cell_type": "code",
   "execution_count": 47,
   "metadata": {},
   "outputs": [
    {
     "name": "stdout",
     "output_type": "stream",
     "text": [
      "take 2 tabs every 2 to 10 weeks\n",
      "[['Method', 'Qty', 'Form', 'EVERY', 'Period', 'TO', 'PeriodMax', 'PeriodUnit']]\n"
     ]
    }
   ],
   "source": [
    "prediction = predict(\"take 2 tabs every 2 to 10 weeks\")"
   ]
  },
  {
   "cell_type": "code",
   "execution_count": 48,
   "metadata": {},
   "outputs": [
    {
     "name": "stdout",
     "output_type": "stream",
     "text": [
      "take 2 tabs every 4 to 6 days\n",
      "[['Method', 'Qty', 'Form', 'EVERY', 'Period', 'TO', 'PeriodMax', 'PeriodUnit']]\n"
     ]
    }
   ],
   "source": [
    "prediction = predict(\"take 2 tabs every 4 to 6 days\")"
   ]
  },
  {
   "cell_type": "code",
   "execution_count": 49,
   "metadata": {},
   "outputs": [
    {
     "name": "stdout",
     "output_type": "stream",
     "text": [
      "take 2 tabs every 2 to 10 months\n",
      "[['Method', 'Qty', 'Form', 'EVERY', 'Period', 'TO', 'PeriodMax', 'PeriodUnit']]\n"
     ]
    }
   ],
   "source": [
    "prediction = predict(\"take 2 tabs every 2 to 10 months\")"
   ]
  },
  {
   "cell_type": "code",
   "execution_count": 50,
   "metadata": {},
   "outputs": [
    {
     "name": "stdout",
     "output_type": "stream",
     "text": [
      "every 60 mins\n",
      "[['EVERY', 'Period', 'PeriodUnit']]\n"
     ]
    }
   ],
   "source": [
    "prediction = predict(\"every 60 mins\")"
   ]
  },
  {
   "cell_type": "code",
   "execution_count": 51,
   "metadata": {},
   "outputs": [
    {
     "name": "stdout",
     "output_type": "stream",
     "text": [
      "every 10 mins\n",
      "[['EVERY', 'Period', 'PeriodUnit']]\n"
     ]
    }
   ],
   "source": [
    "prediction = predict(\"every 10 mins\")"
   ]
  },
  {
   "cell_type": "code",
   "execution_count": 52,
   "metadata": {},
   "outputs": [
    {
     "name": "stdout",
     "output_type": "stream",
     "text": [
      "every two to four months\n",
      "[['EVERY', 'Period', 'TO', 'PeriodMax', 'PeriodUnit']]\n"
     ]
    }
   ],
   "source": [
    "prediction = predict(\"every two to four months\")"
   ]
  },
  {
   "cell_type": "code",
   "execution_count": 53,
   "metadata": {},
   "outputs": [
    {
     "name": "stdout",
     "output_type": "stream",
     "text": [
      "take 2 tabs every 3 to 4 days\n",
      "[['Method', 'Qty', 'Form', 'EVERY', 'Period', 'TO', 'PeriodMax', 'PeriodUnit']]\n"
     ]
    }
   ],
   "source": [
    "prediction = predict(\"take 2 tabs every 3 to 4 days\")"
   ]
  },
  {
   "cell_type": "code",
   "execution_count": 54,
   "metadata": {},
   "outputs": [
    {
     "name": "stdout",
     "output_type": "stream",
     "text": [
      "every 3 to 4 days take 20 tabs\n",
      "[['EVERY', 'Period', 'TO', 'DurationMax', 'DurationUnit', 'Method', 'Qty', 'Form']]\n"
     ]
    }
   ],
   "source": [
    "prediction = predict(\"every 3 to 4 days take 20 tabs\")"
   ]
  },
  {
   "cell_type": "code",
   "execution_count": 55,
   "metadata": {},
   "outputs": [
    {
     "name": "stdout",
     "output_type": "stream",
     "text": [
      "once in every 3 days take 3 tabs\n",
      "[['FOR', 'Duration', 'EVERY', 'Period', 'PeriodUnit', 'Method', 'Qty', 'Form']]\n"
     ]
    }
   ],
   "source": [
    "prediction = predict(\"once in every 3 days take 3 tabs\")"
   ]
  },
  {
   "cell_type": "code",
   "execution_count": 56,
   "metadata": {},
   "outputs": [
    {
     "name": "stdout",
     "output_type": "stream",
     "text": [
      "take 3 tabs once in every 3 days\n",
      "[['Method', 'Qty', 'Form', 'Frequency', 'PeriodUnit', 'EVERY', 'Period', 'PeriodUnit']]\n"
     ]
    }
   ],
   "source": [
    "prediction = predict(\"take 3 tabs once in every 3 days\")"
   ]
  },
  {
   "cell_type": "code",
   "execution_count": 57,
   "metadata": {},
   "outputs": [
    {
     "name": "stdout",
     "output_type": "stream",
     "text": [
      "orally take 20 tabs every 4-6 weeks\n",
      "[['PO', 'Method', 'Qty', 'Form', 'EVERY', 'Period', 'PeriodUnit']]\n"
     ]
    }
   ],
   "source": [
    "prediction = predict(\"orally take 20 tabs every 4-6 weeks\")"
   ]
  },
  {
   "cell_type": "code",
   "execution_count": 58,
   "metadata": {},
   "outputs": [
    {
     "name": "stdout",
     "output_type": "stream",
     "text": [
      "10 tabs x 2 days\n",
      "[['Qty', 'Form', 'FOR', 'Duration', 'DurationUnit']]\n"
     ]
    }
   ],
   "source": [
    "prediction = predict(\"10 tabs x 2 days\")"
   ]
  },
  {
   "cell_type": "code",
   "execution_count": 59,
   "metadata": {},
   "outputs": [
    {
     "name": "stdout",
     "output_type": "stream",
     "text": [
      "3 capsule x 15 days\n",
      "[['Qty', 'Form', 'FOR', 'Duration', 'DurationUnit']]\n"
     ]
    }
   ],
   "source": [
    "prediction = predict(\"3 capsule x 15 days\")"
   ]
  },
  {
   "cell_type": "code",
   "execution_count": 60,
   "metadata": {},
   "outputs": [
    {
     "name": "stdout",
     "output_type": "stream",
     "text": [
      "10 tabs\n",
      "[['Qty', 'Form']]\n"
     ]
    }
   ],
   "source": [
    "prediction = predict(\"10 tabs\")"
   ]
  }
 ],
 "metadata": {
  "kernelspec": {
   "display_name": "Python 3",
   "language": "python",
   "name": "python3"
  },
  "language_info": {
   "codemirror_mode": {
    "name": "ipython",
    "version": 3
   },
   "file_extension": ".py",
   "mimetype": "text/x-python",
   "name": "python",
   "nbconvert_exporter": "python",
   "pygments_lexer": "ipython3",
   "version": "3.11.5"
  }
 },
 "nbformat": 4,
 "nbformat_minor": 2
}
