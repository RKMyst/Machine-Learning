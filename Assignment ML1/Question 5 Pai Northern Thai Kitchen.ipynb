{
 "cells": [
  {
   "cell_type": "markdown",
   "id": "878c6983",
   "metadata": {},
   "source": [
    "Name: Pai Northern Thai Kitchen"
   ]
  },
  {
   "cell_type": "code",
   "execution_count": 17,
   "id": "052f3e73",
   "metadata": {},
   "outputs": [
    {
     "name": "stdout",
     "output_type": "stream",
     "text": [
      "Data scraped and saved to yelp_reviews.csv\n"
     ]
    }
   ],
   "source": [
    "import requests\n",
    "from bs4 import BeautifulSoup\n",
    "import pandas as pd\n",
    "\n",
    "def scrape_yelp(url):\n",
    "    headers = {\n",
    "        \"User-Agent\": \"Mozilla/5.0 (Windows NT 10.0; Win64; x64) AppleWebKit/537.36 (KHTML, like Gecko) Chrome/91.0.4472.124 Safari/537.36\"\n",
    "    }\n",
    "    response = requests.get(url, headers=headers)\n",
    "    soup = BeautifulSoup(response.content, 'html.parser')\n",
    "\n",
    "    # Extract the name of the restaurant\n",
    "    restaurant_name_tag = soup.find('h1')\n",
    "    restaurant_name = restaurant_name_tag.text if restaurant_name_tag else \"Unknown\"\n",
    "\n",
    "    # Extract the total number of reviews\n",
    "    total_reviews_tag = soup.find('span', class_='css-bq71j2')\n",
    "    total_reviews = total_reviews_tag.text.split()[0] if total_reviews_tag else \"Unknown\"\n",
    "\n",
    "    # Extract individual reviews, reviewers, and ratings\n",
    "    reviews = soup.find_all('div', class_='review__373c0__13kpL')\n",
    "    review_texts = []\n",
    "    reviewers = []\n",
    "    ratings = []\n",
    "\n",
    "    for review in reviews:\n",
    "        review_text_tag = review.find('span', class_='raw__373c0__3rcx7')\n",
    "        reviewer_tag = review.find('a', class_='css-166la90')\n",
    "        rating_tag = review.find('div', class_='i-stars__373c0__1T6rz')\n",
    "        \n",
    "        review_texts.append(review_text_tag.text if review_text_tag else \"Unknown\")\n",
    "        reviewers.append(reviewer_tag.text if reviewer_tag else \"Unknown\")\n",
    "        ratings.append(rating_tag['aria-label'].split()[0] if rating_tag else \"Unknown\")\n",
    "\n",
    "    # Store the data in a DataFrame and return it\n",
    "    df = pd.DataFrame({\n",
    "        'Restaurant Name': [restaurant_name] * len(review_texts),\n",
    "        'Total Reviews': [total_reviews] * len(review_texts),\n",
    "        'Review Text': review_texts,\n",
    "        'Reviewer': reviewers,\n",
    "        'Rating': ratings\n",
    "    })\n",
    "\n",
    "    return df\n",
    "\n",
    "if __name__ == \"__main__\":\n",
    "    urls = [\n",
    "        \"https://www.yelp.ca/biz/pai-northern-thai-kitchen-toronto-5?osq=Restaurant\",\n",
    "        # Add more URLs here if needed\n",
    "    ]\n",
    "    \n",
    "    all_data = pd.DataFrame()\n",
    "\n",
    "    for url in urls:\n",
    "        df = scrape_yelp(url)\n",
    "        all_data = pd.concat([all_data, df], ignore_index=True)\n",
    "\n",
    "    all_data.to_csv('yelp_reviews.csv', index=False)\n",
    "    print(\"Data scraped and saved to yelp_reviews.csv\")\n"
   ]
  }
 ],
 "metadata": {
  "kernelspec": {
   "display_name": "Python 3",
   "language": "python",
   "name": "python3"
  },
  "language_info": {
   "codemirror_mode": {
    "name": "ipython",
    "version": 3
   },
   "file_extension": ".py",
   "mimetype": "text/x-python",
   "name": "python",
   "nbconvert_exporter": "python",
   "pygments_lexer": "ipython3",
   "version": "3.10.13"
  }
 },
 "nbformat": 4,
 "nbformat_minor": 5
}
